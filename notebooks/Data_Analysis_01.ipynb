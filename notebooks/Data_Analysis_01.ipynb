{
 "cells": [
  {
   "cell_type": "markdown",
   "metadata": {},
   "source": [
    "# Data Analysis"
   ]
  },
  {
   "cell_type": "code",
   "execution_count": 21,
   "metadata": {},
   "outputs": [],
   "source": [
    "import pandas as pd\n",
    "import numpy as np\n",
    "import matplotlib.pyplot as plt\n",
    "plt.style.use(\"seaborn\")\n",
    "plt.rcParams[\"figure.figsize\"] = (15, 5)\n",
    "\n",
    "pd.options.display.max_columns = None\n",
    "pd.options.display.max_rows = None\n",
    "import altair as alt\n",
    "\n",
    "# alt.data_transformers.disable_max_rows()"
   ]
  },
  {
   "cell_type": "code",
   "execution_count": 2,
   "metadata": {},
   "outputs": [],
   "source": [
    "%matplotlib inline"
   ]
  },
  {
   "cell_type": "markdown",
   "metadata": {},
   "source": [
    "## 1. Get cleaned data"
   ]
  },
  {
   "cell_type": "code",
   "execution_count": 3,
   "metadata": {},
   "outputs": [
    {
     "data": {
      "text/html": [
       "<div>\n",
       "<style scoped>\n",
       "    .dataframe tbody tr th:only-of-type {\n",
       "        vertical-align: middle;\n",
       "    }\n",
       "\n",
       "    .dataframe tbody tr th {\n",
       "        vertical-align: top;\n",
       "    }\n",
       "\n",
       "    .dataframe thead th {\n",
       "        text-align: right;\n",
       "    }\n",
       "</style>\n",
       "<table border=\"1\" class=\"dataframe\">\n",
       "  <thead>\n",
       "    <tr style=\"text-align: right;\">\n",
       "      <th></th>\n",
       "      <th>datetime</th>\n",
       "      <th>month</th>\n",
       "      <th>day</th>\n",
       "      <th>hour</th>\n",
       "      <th>LocationID</th>\n",
       "      <th>pickups</th>\n",
       "      <th>year</th>\n",
       "      <th>week</th>\n",
       "      <th>dayofweek</th>\n",
       "      <th>isweekend</th>\n",
       "      <th>precipitation</th>\n",
       "    </tr>\n",
       "  </thead>\n",
       "  <tbody>\n",
       "    <tr>\n",
       "      <td>0</td>\n",
       "      <td>2017-01-01</td>\n",
       "      <td>1</td>\n",
       "      <td>1</td>\n",
       "      <td>0</td>\n",
       "      <td>4</td>\n",
       "      <td>136.0</td>\n",
       "      <td>2017</td>\n",
       "      <td>52</td>\n",
       "      <td>6</td>\n",
       "      <td>1</td>\n",
       "      <td>0.0</td>\n",
       "    </tr>\n",
       "    <tr>\n",
       "      <td>1</td>\n",
       "      <td>2017-01-01</td>\n",
       "      <td>1</td>\n",
       "      <td>1</td>\n",
       "      <td>0</td>\n",
       "      <td>12</td>\n",
       "      <td>3.0</td>\n",
       "      <td>2017</td>\n",
       "      <td>52</td>\n",
       "      <td>6</td>\n",
       "      <td>1</td>\n",
       "      <td>0.0</td>\n",
       "    </tr>\n",
       "    <tr>\n",
       "      <td>2</td>\n",
       "      <td>2017-01-01</td>\n",
       "      <td>1</td>\n",
       "      <td>1</td>\n",
       "      <td>0</td>\n",
       "      <td>13</td>\n",
       "      <td>103.0</td>\n",
       "      <td>2017</td>\n",
       "      <td>52</td>\n",
       "      <td>6</td>\n",
       "      <td>1</td>\n",
       "      <td>0.0</td>\n",
       "    </tr>\n",
       "    <tr>\n",
       "      <td>3</td>\n",
       "      <td>2017-01-01</td>\n",
       "      <td>1</td>\n",
       "      <td>1</td>\n",
       "      <td>0</td>\n",
       "      <td>24</td>\n",
       "      <td>94.0</td>\n",
       "      <td>2017</td>\n",
       "      <td>52</td>\n",
       "      <td>6</td>\n",
       "      <td>1</td>\n",
       "      <td>0.0</td>\n",
       "    </tr>\n",
       "    <tr>\n",
       "      <td>4</td>\n",
       "      <td>2017-01-01</td>\n",
       "      <td>1</td>\n",
       "      <td>1</td>\n",
       "      <td>0</td>\n",
       "      <td>41</td>\n",
       "      <td>136.0</td>\n",
       "      <td>2017</td>\n",
       "      <td>52</td>\n",
       "      <td>6</td>\n",
       "      <td>1</td>\n",
       "      <td>0.0</td>\n",
       "    </tr>\n",
       "  </tbody>\n",
       "</table>\n",
       "</div>"
      ],
      "text/plain": [
       "    datetime  month  day  hour  LocationID  pickups  year  week  dayofweek  \\\n",
       "0 2017-01-01      1    1     0           4    136.0  2017    52          6   \n",
       "1 2017-01-01      1    1     0          12      3.0  2017    52          6   \n",
       "2 2017-01-01      1    1     0          13    103.0  2017    52          6   \n",
       "3 2017-01-01      1    1     0          24     94.0  2017    52          6   \n",
       "4 2017-01-01      1    1     0          41    136.0  2017    52          6   \n",
       "\n",
       "   isweekend  precipitation  \n",
       "0          1            0.0  \n",
       "1          1            0.0  \n",
       "2          1            0.0  \n",
       "3          1            0.0  \n",
       "4          1            0.0  "
      ]
     },
     "execution_count": 3,
     "metadata": {},
     "output_type": "execute_result"
    }
   ],
   "source": [
    "year=2017\n",
    "\n",
    "df = pd.read_csv('../data/Data_Cleaned_'+str(year)+'_To_Model.csv', sep=',',\n",
    "                       parse_dates=['datetime'])\n",
    "df = df.rename(columns={'NoOfPickups':'pickups'})\n",
    "\n",
    "df.head()"
   ]
  },
  {
   "cell_type": "markdown",
   "metadata": {},
   "source": [
    "## 2. Get Zone Name and attach to data"
   ]
  },
  {
   "cell_type": "code",
   "execution_count": 4,
   "metadata": {},
   "outputs": [
    {
     "data": {
      "text/html": [
       "<div>\n",
       "<style scoped>\n",
       "    .dataframe tbody tr th:only-of-type {\n",
       "        vertical-align: middle;\n",
       "    }\n",
       "\n",
       "    .dataframe tbody tr th {\n",
       "        vertical-align: top;\n",
       "    }\n",
       "\n",
       "    .dataframe thead th {\n",
       "        text-align: right;\n",
       "    }\n",
       "</style>\n",
       "<table border=\"1\" class=\"dataframe\">\n",
       "  <thead>\n",
       "    <tr style=\"text-align: right;\">\n",
       "      <th></th>\n",
       "      <th>zone</th>\n",
       "      <th>LocationID</th>\n",
       "    </tr>\n",
       "  </thead>\n",
       "  <tbody>\n",
       "    <tr>\n",
       "      <td>0</td>\n",
       "      <td>Alphabet City</td>\n",
       "      <td>4</td>\n",
       "    </tr>\n",
       "    <tr>\n",
       "      <td>1</td>\n",
       "      <td>Battery Park</td>\n",
       "      <td>12</td>\n",
       "    </tr>\n",
       "    <tr>\n",
       "      <td>2</td>\n",
       "      <td>Battery Park City</td>\n",
       "      <td>13</td>\n",
       "    </tr>\n",
       "    <tr>\n",
       "      <td>3</td>\n",
       "      <td>Bloomingdale</td>\n",
       "      <td>24</td>\n",
       "    </tr>\n",
       "    <tr>\n",
       "      <td>4</td>\n",
       "      <td>Central Harlem</td>\n",
       "      <td>41</td>\n",
       "    </tr>\n",
       "  </tbody>\n",
       "</table>\n",
       "</div>"
      ],
      "text/plain": [
       "                zone  LocationID\n",
       "0      Alphabet City           4\n",
       "1       Battery Park          12\n",
       "2  Battery Park City          13\n",
       "3       Bloomingdale          24\n",
       "4     Central Harlem          41"
      ]
     },
     "execution_count": 4,
     "metadata": {},
     "output_type": "execute_result"
    }
   ],
   "source": [
    "# 1. Import Location and Borough columns form NY TAXI ZONES dataset\n",
    "dfzones = pd.read_csv('../data/NY_taxi_zones.csv', sep=',',\n",
    "                      usecols=['LocationID', 'borough', 'zone'])\n",
    "\n",
    "# 2. Filter Manhattan zones\n",
    "dfzones = dfzones[dfzones['borough']=='Manhattan']\\\n",
    "                .drop(['borough'], axis=1)\\\n",
    "                .sort_values(by='LocationID')\\\n",
    "                .drop_duplicates('LocationID').reset_index(drop=True)\n",
    "dfzones.head()"
   ]
  },
  {
   "cell_type": "code",
   "execution_count": 5,
   "metadata": {},
   "outputs": [
    {
     "data": {
      "text/html": [
       "<div>\n",
       "<style scoped>\n",
       "    .dataframe tbody tr th:only-of-type {\n",
       "        vertical-align: middle;\n",
       "    }\n",
       "\n",
       "    .dataframe tbody tr th {\n",
       "        vertical-align: top;\n",
       "    }\n",
       "\n",
       "    .dataframe thead th {\n",
       "        text-align: right;\n",
       "    }\n",
       "</style>\n",
       "<table border=\"1\" class=\"dataframe\">\n",
       "  <thead>\n",
       "    <tr style=\"text-align: right;\">\n",
       "      <th></th>\n",
       "      <th>datetime</th>\n",
       "      <th>month</th>\n",
       "      <th>day</th>\n",
       "      <th>hour</th>\n",
       "      <th>LocationID</th>\n",
       "      <th>pickups</th>\n",
       "      <th>year</th>\n",
       "      <th>week</th>\n",
       "      <th>dayofweek</th>\n",
       "      <th>isweekend</th>\n",
       "      <th>precipitation</th>\n",
       "      <th>zone</th>\n",
       "    </tr>\n",
       "  </thead>\n",
       "  <tbody>\n",
       "    <tr>\n",
       "      <td>0</td>\n",
       "      <td>2017-01-01 00:00:00</td>\n",
       "      <td>1</td>\n",
       "      <td>1</td>\n",
       "      <td>0</td>\n",
       "      <td>4</td>\n",
       "      <td>136.0</td>\n",
       "      <td>2017</td>\n",
       "      <td>52</td>\n",
       "      <td>6</td>\n",
       "      <td>1</td>\n",
       "      <td>0.0</td>\n",
       "      <td>Alphabet City</td>\n",
       "    </tr>\n",
       "    <tr>\n",
       "      <td>1</td>\n",
       "      <td>2017-01-01 01:00:00</td>\n",
       "      <td>1</td>\n",
       "      <td>1</td>\n",
       "      <td>1</td>\n",
       "      <td>4</td>\n",
       "      <td>144.0</td>\n",
       "      <td>2017</td>\n",
       "      <td>52</td>\n",
       "      <td>6</td>\n",
       "      <td>1</td>\n",
       "      <td>0.0</td>\n",
       "      <td>Alphabet City</td>\n",
       "    </tr>\n",
       "    <tr>\n",
       "      <td>2</td>\n",
       "      <td>2017-01-01 02:00:00</td>\n",
       "      <td>1</td>\n",
       "      <td>1</td>\n",
       "      <td>2</td>\n",
       "      <td>4</td>\n",
       "      <td>189.0</td>\n",
       "      <td>2017</td>\n",
       "      <td>52</td>\n",
       "      <td>6</td>\n",
       "      <td>1</td>\n",
       "      <td>0.0</td>\n",
       "      <td>Alphabet City</td>\n",
       "    </tr>\n",
       "    <tr>\n",
       "      <td>3</td>\n",
       "      <td>2017-01-01 03:00:00</td>\n",
       "      <td>1</td>\n",
       "      <td>1</td>\n",
       "      <td>3</td>\n",
       "      <td>4</td>\n",
       "      <td>186.0</td>\n",
       "      <td>2017</td>\n",
       "      <td>52</td>\n",
       "      <td>6</td>\n",
       "      <td>1</td>\n",
       "      <td>0.0</td>\n",
       "      <td>Alphabet City</td>\n",
       "    </tr>\n",
       "    <tr>\n",
       "      <td>4</td>\n",
       "      <td>2017-01-01 04:00:00</td>\n",
       "      <td>1</td>\n",
       "      <td>1</td>\n",
       "      <td>4</td>\n",
       "      <td>4</td>\n",
       "      <td>125.0</td>\n",
       "      <td>2017</td>\n",
       "      <td>52</td>\n",
       "      <td>6</td>\n",
       "      <td>1</td>\n",
       "      <td>0.0</td>\n",
       "      <td>Alphabet City</td>\n",
       "    </tr>\n",
       "  </tbody>\n",
       "</table>\n",
       "</div>"
      ],
      "text/plain": [
       "             datetime  month  day  hour  LocationID  pickups  year  week  \\\n",
       "0 2017-01-01 00:00:00      1    1     0           4    136.0  2017    52   \n",
       "1 2017-01-01 01:00:00      1    1     1           4    144.0  2017    52   \n",
       "2 2017-01-01 02:00:00      1    1     2           4    189.0  2017    52   \n",
       "3 2017-01-01 03:00:00      1    1     3           4    186.0  2017    52   \n",
       "4 2017-01-01 04:00:00      1    1     4           4    125.0  2017    52   \n",
       "\n",
       "   dayofweek  isweekend  precipitation           zone  \n",
       "0          6          1            0.0  Alphabet City  \n",
       "1          6          1            0.0  Alphabet City  \n",
       "2          6          1            0.0  Alphabet City  \n",
       "3          6          1            0.0  Alphabet City  \n",
       "4          6          1            0.0  Alphabet City  "
      ]
     },
     "execution_count": 5,
     "metadata": {},
     "output_type": "execute_result"
    }
   ],
   "source": [
    "df2 = df.merge(dfzones, left_on='LocationID', right_on='LocationID')\n",
    "df2.head()"
   ]
  },
  {
   "cell_type": "markdown",
   "metadata": {},
   "source": [
    "## 3. Histogram Comparison: Pickups per Zone\n",
    "The plot shows Manhattan zones ordered by their average number of pickups over the year.\n",
    "\n",
    "The top ten here:\n",
    "\n",
    "|Zone|Number of Pickups (mean)|\n",
    "| --- | --- |\n",
    "|Upper East Side South:|505.161416|\n",
    "|Midtown Center|485.399543|\n",
    "|Upper East Side North|457.652283|\n",
    "|Penn Station/Madison Sq West|451.312671|\n",
    "|Midtown East|438.765411|\n",
    "|Times Sq/Theatre District|435.514155|\n",
    "|Union Sq|420.867009|\n",
    "|Murray Hill|412.360616|\n",
    "|Clinton East|404.736301|\n",
    "|East Village|377.901941|\n",
    "\n"
   ]
  },
  {
   "cell_type": "code",
   "execution_count": 6,
   "metadata": {},
   "outputs": [
    {
     "data": {
      "text/html": [
       "\n",
       "<div id=\"altair-viz-631defd446994bb19a42ebdbcd299316\"></div>\n",
       "<script type=\"text/javascript\">\n",
       "  (function(spec, embedOpt){\n",
       "    let outputDiv = document.currentScript.previousElementSibling;\n",
       "    if (outputDiv.id !== \"altair-viz-631defd446994bb19a42ebdbcd299316\") {\n",
       "      outputDiv = document.getElementById(\"altair-viz-631defd446994bb19a42ebdbcd299316\");\n",
       "    }\n",
       "    const paths = {\n",
       "      \"vega\": \"https://cdn.jsdelivr.net/npm//vega@5?noext\",\n",
       "      \"vega-lib\": \"https://cdn.jsdelivr.net/npm//vega-lib?noext\",\n",
       "      \"vega-lite\": \"https://cdn.jsdelivr.net/npm//vega-lite@4.8.1?noext\",\n",
       "      \"vega-embed\": \"https://cdn.jsdelivr.net/npm//vega-embed@6?noext\",\n",
       "    };\n",
       "\n",
       "    function loadScript(lib) {\n",
       "      return new Promise(function(resolve, reject) {\n",
       "        var s = document.createElement('script');\n",
       "        s.src = paths[lib];\n",
       "        s.async = true;\n",
       "        s.onload = () => resolve(paths[lib]);\n",
       "        s.onerror = () => reject(`Error loading script: ${paths[lib]}`);\n",
       "        document.getElementsByTagName(\"head\")[0].appendChild(s);\n",
       "      });\n",
       "    }\n",
       "\n",
       "    function showError(err) {\n",
       "      outputDiv.innerHTML = `<div class=\"error\" style=\"color:red;\">${err}</div>`;\n",
       "      throw err;\n",
       "    }\n",
       "\n",
       "    function displayChart(vegaEmbed) {\n",
       "      vegaEmbed(outputDiv, spec, embedOpt)\n",
       "        .catch(err => showError(`Javascript Error: ${err.message}<br>This usually means there's a typo in your chart specification. See the javascript console for the full traceback.`));\n",
       "    }\n",
       "\n",
       "    if(typeof define === \"function\" && define.amd) {\n",
       "      requirejs.config({paths});\n",
       "      require([\"vega-embed\"], displayChart, err => showError(`Error loading script: ${err.message}`));\n",
       "    } else if (typeof vegaEmbed === \"function\") {\n",
       "      displayChart(vegaEmbed);\n",
       "    } else {\n",
       "      loadScript(\"vega\")\n",
       "        .then(() => loadScript(\"vega-lite\"))\n",
       "        .then(() => loadScript(\"vega-embed\"))\n",
       "        .catch(showError)\n",
       "        .then(() => displayChart(vegaEmbed));\n",
       "    }\n",
       "  })({\"config\": {\"view\": {\"continuousWidth\": 400, \"continuousHeight\": 300}}, \"data\": {\"name\": \"data-693bc07e9fc07893755971e058b3df7c\"}, \"mark\": \"bar\", \"encoding\": {\"tooltip\": {\"type\": \"nominal\", \"field\": \"zone\"}, \"x\": {\"type\": \"nominal\", \"field\": \"zone\", \"sort\": {\"field\": \"pickups\", \"order\": \"descending\"}}, \"y\": {\"type\": \"quantitative\", \"field\": \"pickups\"}}, \"width\": 800, \"$schema\": \"https://vega.github.io/schema/vega-lite/v4.8.1.json\", \"datasets\": {\"data-693bc07e9fc07893755971e058b3df7c\": [{\"zone\": \"Upper East Side South\", \"pickups\": 505.16141552511414}, {\"zone\": \"Midtown Center\", \"pickups\": 485.3995433789954}, {\"zone\": \"Upper East Side North\", \"pickups\": 457.65228310502283}, {\"zone\": \"Penn Station/Madison Sq West\", \"pickups\": 451.3126712328767}, {\"zone\": \"Midtown East\", \"pickups\": 438.7654109589041}, {\"zone\": \"Times Sq/Theatre District\", \"pickups\": 435.5141552511416}, {\"zone\": \"Union Sq\", \"pickups\": 420.8670091324201}, {\"zone\": \"Murray Hill\", \"pickups\": 412.36061643835615}, {\"zone\": \"Clinton East\", \"pickups\": 404.736301369863}, {\"zone\": \"East Village\", \"pickups\": 377.9019406392694}, {\"zone\": \"Lincoln Square East\", \"pickups\": 373.7140410958904}, {\"zone\": \"Midtown North\", \"pickups\": 344.47100456621007}, {\"zone\": \"Upper West Side South\", \"pickups\": 325.809703196347}, {\"zone\": \"Midtown South\", \"pickups\": 311.43253424657536}, {\"zone\": \"Gramercy\", \"pickups\": 307.0288812785388}, {\"zone\": \"East Chelsea\", \"pickups\": 304.09143835616436}, {\"zone\": \"Lenox Hill West\", \"pickups\": 291.75810502283105}, {\"zone\": \"West Village\", \"pickups\": 269.5478310502283}, {\"zone\": \"Garment District\", \"pickups\": 261.93481735159816}, {\"zone\": \"Sutton Place/Turtle Bay North\", \"pickups\": 241.9091324200913}, {\"zone\": \"Flatiron\", \"pickups\": 240.80091324200913}, {\"zone\": \"Upper West Side North\", \"pickups\": 240.00890410958905}, {\"zone\": \"TriBeCa/Civic Center\", \"pickups\": 233.82728310502284}, {\"zone\": \"Yorkville West\", \"pickups\": 226.17134703196348}, {\"zone\": \"Lenox Hill East\", \"pickups\": 214.60970319634703}, {\"zone\": \"Greenwich Village North\", \"pickups\": 213.09109589041097}, {\"zone\": \"Lower East Side\", \"pickups\": 190.7291095890411}, {\"zone\": \"West Chelsea/Hudson Yards\", \"pickups\": 184.82842465753424}, {\"zone\": \"Greenwich Village South\", \"pickups\": 182.16586757990868}, {\"zone\": \"Central Park\", \"pickups\": 176.82865296803652}, {\"zone\": \"UN/Turtle Bay South\", \"pickups\": 168.2123287671233}, {\"zone\": \"Kips Bay\", \"pickups\": 160.89178082191782}, {\"zone\": \"Yorkville East\", \"pickups\": 150.36997716894976}, {\"zone\": \"Meatpacking/West Village West\", \"pickups\": 149.98607305936073}, {\"zone\": \"Little Italy/NoLiTa\", \"pickups\": 146.2681506849315}, {\"zone\": \"Lincoln Square West\", \"pickups\": 137.2203196347032}, {\"zone\": \"Clinton West\", \"pickups\": 123.22420091324202}, {\"zone\": \"Battery Park City\", \"pickups\": 121.32534246575342}, {\"zone\": \"Manhattan Valley\", \"pickups\": 110.22054794520548}, {\"zone\": \"SoHo\", \"pickups\": 107.69931506849315}, {\"zone\": \"Financial District North\", \"pickups\": 101.0703196347032}, {\"zone\": \"East Harlem South\", \"pickups\": 83.76278538812785}, {\"zone\": \"World Trade Center\", \"pickups\": 78.27465753424657}, {\"zone\": \"Hudson Sq\", \"pickups\": 77.29143835616438}, {\"zone\": \"Morningside Heights\", \"pickups\": 63.61312785388128}, {\"zone\": \"Financial District South\", \"pickups\": 52.206849315068496}, {\"zone\": \"East Harlem North\", \"pickups\": 46.451141552511416}, {\"zone\": \"Central Harlem\", \"pickups\": 44.93299086757991}, {\"zone\": \"Bloomingdale\", \"pickups\": 37.58892694063927}, {\"zone\": \"Stuy Town/Peter Cooper Village\", \"pickups\": 36.16826484018265}, {\"zone\": \"Alphabet City\", \"pickups\": 32.72728310502283}, {\"zone\": \"Chinatown\", \"pickups\": 29.60239726027397}, {\"zone\": \"Seaport\", \"pickups\": 25.53675799086758}, {\"zone\": \"Two Bridges/Seward Park\", \"pickups\": 24.61404109589041}, {\"zone\": \"Central Harlem North\", \"pickups\": 20.31255707762557}, {\"zone\": \"Hamilton Heights\", \"pickups\": 14.705707762557077}, {\"zone\": \"Washington Heights South\", \"pickups\": 12.6412100456621}, {\"zone\": \"Manhattanville\", \"pickups\": 12.413013698630136}, {\"zone\": \"Battery Park\", \"pickups\": 6.0874429223744295}, {\"zone\": \"Washington Heights North\", \"pickups\": 2.4792237442922374}, {\"zone\": \"Inwood\", \"pickups\": 1.2299086757990867}, {\"zone\": \"Randalls Island\", \"pickups\": 0.7676940639269406}, {\"zone\": \"Roosevelt Island\", \"pickups\": 0.5728310502283105}, {\"zone\": \"Marble Hill\", \"pickups\": 0.1230593607305936}, {\"zone\": \"Inwood Hill Park\", \"pickups\": 0.07705479452054795}, {\"zone\": \"Highbridge Park\", \"pickups\": 0.06906392694063927}, {\"zone\": \"Governor's Island/Ellis Island/Liberty Island\", \"pickups\": 0.00011415525114155251}]}}, {\"mode\": \"vega-lite\"});\n",
       "</script>"
      ],
      "text/plain": [
       "alt.Chart(...)"
      ]
     },
     "execution_count": 6,
     "metadata": {},
     "output_type": "execute_result"
    }
   ],
   "source": [
    "df_grouped = df2[['zone', 'pickups']]\n",
    "df_grouped = df_grouped.groupby('zone').mean().sort_values('pickups', ascending=False).reset_index()\n",
    "\n",
    "pickups_by_zone = alt.Chart(df_grouped).mark_bar().encode(\n",
    "    x=alt.X('zone',\n",
    "            sort=alt.Sort(field='pickups',\n",
    "                         order='descending')\n",
    "    ),\n",
    "    y='pickups',\n",
    "    tooltip='zone'\n",
    ").properties(\n",
    "    width=800\n",
    ")\n",
    "pickups_by_zone"
   ]
  },
  {
   "cell_type": "markdown",
   "metadata": {},
   "source": [
    "## 4. Linear Chart: Pickups evolution over time"
   ]
  },
  {
   "cell_type": "markdown",
   "metadata": {},
   "source": [
    "#### 4.1. Pickups evolution over Months\n",
    "- The number of pickups over the year is quite constant.\n",
    "- The only variation is a small decrease of pickups over the Summer months: July and August. This can be interpretate as that most of the taxis are taken by new yorkers (not tourists), and in this period they travel away from the city.\n",
    "\n",
    "#### 4.2. Pickups evolution over Weeks\n",
    "- This graph show better how the taxi demand drops drastically on the USA Federal holidays:\n",
    "    - New Year's Day: January.\n",
    "    - Independance Day: 4th July.\n",
    "    - Labor Day: first Monday of September.\n",
    "    - Thanksgiving: 4th Thursday of November."
   ]
  },
  {
   "cell_type": "code",
   "execution_count": 35,
   "metadata": {},
   "outputs": [
    {
     "data": {
      "image/png": "[encoded data removed]",
      "text/plain": [
       "<Figure size 1080x360 with 1 Axes>"
      ]
     },
     "metadata": {},
     "output_type": "display_data"
    },
    {
     "data": {
      "image/png": "[encoded data removed]",
      "text/plain": [
       "<Figure size 1080x360 with 1 Axes>"
      ]
     },
     "metadata": {},
     "output_type": "display_data"
    }
   ],
   "source": [
    "df_grouped = df2[['datetime', 'pickups']]\n",
    "df_grouped = df_grouped.groupby('datetime').mean()\n",
    "\n",
    "df_grouped_months = df_grouped.resample('M').mean()\n",
    "df_grouped_weeks = df_grouped.resample('W').mean()\n",
    "df_grouped_months.plot()\n",
    "plt.title('PICKUPS EVOLUTION OVER MONTHS')\n",
    "plt.ylim(bottom=0)\n",
    "df_grouped_weeks.plot()\n",
    "plt.title('PICKUPS EVOLUTION OVER WEEKS')\n",
    "plt.ylim(bottom=0)\n",
    "plt.show()"
   ]
  },
  {
   "cell_type": "markdown",
   "metadata": {},
   "source": [
    "### 4.2. Pickups evolution over Weeks"
   ]
  },
  {
   "cell_type": "code",
   "execution_count": 63,
   "metadata": {},
   "outputs": [
    {
     "data": {
      "text/plain": [
       "datetime\n",
       "Friday       235127.746269\n",
       "Monday       194396.850746\n",
       "Saturday     229557.656716\n",
       "Sunday       198604.656716\n",
       "Thursday     231420.388060\n",
       "Tuesday      214217.328358\n",
       "Wednesday    227082.417910\n",
       "Name: pickups, dtype: float64"
      ]
     },
     "execution_count": 63,
     "metadata": {},
     "output_type": "execute_result"
    }
   ],
   "source": [
    "df_grouped = df2[['datetime', 'pickups']]\n",
    "df_grouped = df_grouped.groupby('datetime').mean().reset_index()\n",
    "\n",
    "# week_df = df_grouped.groupby(df_grouped['datetime'].dt.weekday_name).mean()\n",
    "group_key = df_grouped['datetime'].dt.weekday_name\n",
    "df_grouped\n",
    "df_grouped.groupby(group_key)['pickups'].sum()"
   ]
  }
 ],
 "metadata": {
  "kernelspec": {
   "display_name": "Python 3",
   "language": "python",
   "name": "python3"
  },
  "language_info": {
   "codemirror_mode": {
    "name": "ipython",
    "version": 3
   },
   "file_extension": ".py",
   "mimetype": "text/x-python",
   "name": "python",
   "nbconvert_exporter": "python",
   "pygments_lexer": "ipython3",
   "version": "3.7.4"
  }
 },
 "nbformat": 4,
 "nbformat_minor": 2
}
