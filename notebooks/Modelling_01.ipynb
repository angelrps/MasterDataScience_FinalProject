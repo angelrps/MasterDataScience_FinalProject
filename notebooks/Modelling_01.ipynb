{
 "cells": [
  {
   "cell_type": "markdown",
   "metadata": {},
   "source": [
    "# Modelling 01\n",
    "\n",
    "In this notebook I will explore different predictive models.  \n",
    "First, I will create a baseline model by calculating the average of pickups per zone and per hour.  \n",
    "After that, I will use some regression models to compare with the baseline model and select the best one.\n",
    "\n",
    "### 0. [Create helper functions](#Create-helper-functions)\n",
    "- [``split_data()``](#split_data())\n",
    "- [``plot_real_vs_pred()``](#plot_real_vs_pred()): bar plot to visually compare real vs predicted values.\n",
    "- [``get_metrics()``](#get_metrics()): it calculates relevant metrics all at once.\n",
    "- [``compare_model_metrics()``](#compare_model_metrics()): bar plot to compare metrics from different models and choose the best one.\n",
    "\n",
    "### 1. [Import dataset and select features](#Import-dataset-and-select-features)\n",
    "\n",
    "- [Select columns of interest](#Select-columns-of-interest)\n",
    "- [Separate Input and Output variables](#Separate-Input-and-Output-variables)\n",
    "\n",
    "### 2. [Split data](#Split-data)\n",
    "\n",
    "### 3. [Models](#Models)\n",
    "\n",
    "- [Linear Regression](#Linear-Regression)\n",
    "- [K Nearest Neighbour Regressor (KNN)](#K-Nearest-Neighbour-Regressor-(KNN))"
   ]
  },
  {
   "cell_type": "markdown",
   "metadata": {},
   "source": [
    "NOTE: Create base model. It will give us the baseline accuracy and and I should try to beat this baseline accuracy using more advanced techniques. This base model could be the average for a specific hour."
   ]
  },
  {
   "cell_type": "markdown",
   "metadata": {},
   "source": [
    "# Create helper functions"
   ]
  },
  {
   "cell_type": "markdown",
   "metadata": {},
   "source": [
    "### ``split_data()``\n",
    "This function will use ``sklearn.model_selection.train_test_split`` to split the data into:\n",
    "- Train: 60%\n",
    "- Validation: 20% (to validate training)\n",
    "- Test: 20% (to validate the model)"
   ]
  },
  {
   "cell_type": "code",
   "execution_count": 14,
   "metadata": {},
   "outputs": [],
   "source": [
    "def split_data(X,y):\n",
    "    valSize = 0.25 #0.8 * 0.2 = 0.2\n",
    "    testSize = 0.2\n",
    "\n",
    "    # Split TRAIN-TEST\n",
    "    X_train, X_test, y_train, y_test = train_test_split(X, y, test_size=0.2, random_state=1)\n",
    "\n",
    "    # Split TRAIN-VALIDATION\n",
    "    X_train, X_val, y_train, y_val = train_test_split(X_train, y_train, test_size=valSize, random_state=1)\n",
    "    \n",
    "    \n",
    "    print('X_train: {0} ({1}%)'.format(X_train.shape[0], (X_train.shape[0]/X.shape[0])*100))\n",
    "    print('y_train: {0} ({1}%)'.format(y_train.shape[0], (y_train.shape[0]/X.shape[0])*100))\n",
    "\n",
    "    print('X_val: {0} ({1}%)'.format(X_val.shape[0], (X_val.shape[0]/X.shape[0])*100))\n",
    "    print('y_val: {0} ({1}%)'.format(y_val.shape[0], (y_val.shape[0]/X.shape[0])*100))\n",
    "\n",
    "    print('X_test: {0} ({1}%)'.format(X_test.shape[0], (X_test.shape[0]/X.shape[0])*100))\n",
    "    print('y_test: {0} ({1}%)'.format(y_test.shape[0], (y_test.shape[0]/X.shape[0])*100))\n",
    "    \n",
    "    return X_train, X_val, X_test, y_train, y_val, y_test"
   ]
  },
  {
   "cell_type": "markdown",
   "metadata": {},
   "source": [
    "### ``plot_real_vs_pred()``\n",
    "\n",
    "This functions creates a bar plot to visually compare real vs predicted values.  \n",
    "\n",
    "Inputs:\n",
    "    - Model name\n",
    "    - 'y' real values\n",
    "    - 'y' predected values\n",
    "Output:\n",
    "    - Bar plot"
   ]
  },
  {
   "cell_type": "code",
   "execution_count": 2,
   "metadata": {},
   "outputs": [],
   "source": [
    "def plot_real_vs_pred(model_name, y_real, y_pred):\n",
    "    plt.style.use('ggplot')\n",
    "    reg_real_vs_pred = pd.DataFrame({'Actual': y_real, 'Predicted': y_pred})\n",
    "    reg_real_vs_pred = reg_real_vs_pred.head(40)\n",
    "    reg_real_vs_pred.plot(kind='bar', title='MODEL: '+model_name, figsize=(16,5))\n",
    "    plt.show()"
   ]
  },
  {
   "cell_type": "markdown",
   "metadata": {},
   "source": [
    "### ``get_metrics()``\n",
    "\n",
    "Function to calculate relevant metrics all at once.  \n",
    "\n",
    "Inputs:\n",
    "    - Model name\n",
    "    - Real target values\n",
    "    - Predected values\n",
    "Outputs:\n",
    "    - Model name\n",
    "    - MAE\n",
    "    - RMSE\n",
    "    - R2\n",
    "    - R (correlation)"
   ]
  },
  {
   "cell_type": "code",
   "execution_count": 3,
   "metadata": {},
   "outputs": [],
   "source": [
    "def get_metrics(model_name, y_real, y_pred):\n",
    "    from sklearn.metrics import mean_absolute_error, mean_squared_error, r2_score\n",
    "    \n",
    "    # MAE: same units as target variable. It is more robust to outliers\n",
    "    MAE = mean_absolute_error(y_real, y_pred)\n",
    "\n",
    "    # RMSE: same units as target variable\n",
    "    RMSE = np.sqrt(mean_squared_error(y_real, y_pred))\n",
    "    \n",
    "    # R^2\n",
    "    R2 = r2_score(y_real, y_pred)\n",
    "    \n",
    "    # Correlation\n",
    "    R = np.corrcoef(y_real, y_pred)[0][1]\n",
    "    \n",
    "    print('MODEL: ', model_name)\n",
    "    print('MAE: ', MAE)\n",
    "    print('RMSE: ', RMSE)\n",
    "    print('R^2 (Coefficient of determination): ', R2)\n",
    "    print('R (Correlation coefficient): ', R)\n",
    "    \n",
    "    return model_name, MAE, RMSE, R2, R"
   ]
  },
  {
   "cell_type": "markdown",
   "metadata": {},
   "source": [
    "### ``compare_model_metrics()``\n",
    "\n",
    "Given a list of ``'model_metrics'``, obtained with the function ``get_metrics()``, this function creates several bar plots to compare metrics from different models and choose the best one."
   ]
  },
  {
   "cell_type": "code",
   "execution_count": 4,
   "metadata": {},
   "outputs": [],
   "source": [
    "def compare_model_metrics(mod_metric_list):\n",
    "    \n",
    "    plt.style.use('ggplot')\n",
    "    # create DataFrames with metric data\n",
    "    df_MAE = pd.DataFrame(columns=['MAE'])\n",
    "    df_MAE_index = []\n",
    "    df_RMSE = pd.DataFrame(columns=['RMSE'])\n",
    "    df_RMSE_index = []\n",
    "    df_R2 = pd.DataFrame(columns=['R2'])\n",
    "    df_R2_index = []\n",
    "    df_R = pd.DataFrame(columns=['R (Correlation)'])\n",
    "    df_R_index = []\n",
    "    \n",
    "    for mod in mod_metric_list:\n",
    "        \n",
    "        df_MAE = df_MAE.append({'MAE': mod[1]}, ignore_index=True)\n",
    "        df_MAE_index.append(mod[0])\n",
    "        df_RMSE = df_RMSE.append({'RMSE': mod[2]}, ignore_index=True)\n",
    "        df_RMSE_index.append(mod[0])\n",
    "        df_R2 = df_R2.append({'R2': mod[3]}, ignore_index=True)\n",
    "        df_R2_index.append(mod[0])\n",
    "        df_R = df_R.append({'R (Correlation)': mod[4]}, ignore_index=True)\n",
    "        df_R_index.append(mod[0])\n",
    "    \n",
    "    # set index names so they appear y the bar plot\n",
    "    df_MAE.index = df_MAE_index\n",
    "    df_RMSE.index = df_RMSE_index\n",
    "    df_R2.index = df_R2_index\n",
    "    df_R.index = df_R_index\n",
    "    \n",
    "    # sort values so the best model appears in firsst position\n",
    "    df_MAE = df_MAE.sort_values('MAE', ascending=False)\n",
    "    df_RMSE = df_RMSE.sort_values('RMSE', ascending=False)\n",
    "    df_R2 = df_R2.sort_values('R2', ascending=True)\n",
    "    df_R = df_R.sort_values('R (Correlation)', ascending=True)\n",
    "    \n",
    "    # create figure and one axis per metric\n",
    "    f = plt.figure(figsize=(8,len(mod_metric_list*3)))\n",
    "    axes1 = f.add_subplot(4,1,1)\n",
    "    axes2 = f.add_subplot(4,1,2)\n",
    "    axes3 = f.add_subplot(4,1,3)\n",
    "    axes4 = f.add_subplot(4,1,4)\n",
    "    \n",
    "    # plot dataframes with DataFrame.plot()\n",
    "    df_MAE.plot(kind='barh',ax=axes1, title = 'Compare Model Metrics', color='lightcoral')\\\n",
    "            .legend(loc='lower left',bbox_to_anchor=(1.0, 0.5))\n",
    "    df_RMSE.plot(kind='barh', ax=axes2, color='cornflowerblue')\\\n",
    "            .legend(loc='lower left',bbox_to_anchor=(1.0, 0.5))\n",
    "    df_R2.plot(kind='barh', ax=axes3, color='goldenrod')\\\n",
    "            .legend(loc='lower left',bbox_to_anchor=(1.0, 0.5))\n",
    "    df_R.plot(kind='barh', ax=axes4, color='mediumseagreen')\\\n",
    "            .legend(loc='lower left',bbox_to_anchor=(1.0, 0.5))\n",
    "    \n",
    "    # annotate bars with result values \n",
    "    for p in axes1.patches:\n",
    "        axes1.annotate(np.round(a=p.get_width(), decimals=0), \\\n",
    "                       (p.get_x() + p.get_width(), p.get_y()), \\\n",
    "                       xytext=(-30, 5), textcoords='offset points')\n",
    "\n",
    "    for p in axes2.patches:\n",
    "        axes2.annotate(np.round(a=p.get_width(), decimals=0), \\\n",
    "                       (p.get_x() + p.get_width(), p.get_y()), \\\n",
    "                       xytext=(-30, 5), textcoords='offset points')\n",
    "    for p in axes3.patches:\n",
    "        axes3.annotate(np.round(a=p.get_width(), decimals=2), \\\n",
    "                       (p.get_x() + p.get_width(), p.get_y()), \\\n",
    "                       xytext=(-30, 5), textcoords='offset points')\n",
    "\n",
    "    for p in axes4.patches:\n",
    "        axes4.annotate(np.round(a=p.get_width(), decimals=2), \\\n",
    "                       (p.get_x() + p.get_width(), p.get_y()), \\\n",
    "                       xytext=(-30, 5), textcoords='offset points')\n",
    "        \n",
    "    plt.show()"
   ]
  },
  {
   "cell_type": "markdown",
   "metadata": {},
   "source": [
    "# Import dataset and select features\n",
    "\n",
    "From the cleaned datasets saved from previous notebooks, I will use the one from ``2019`` and will leave the others (``2018`` and ``2017``) in case I need more training data."
   ]
  },
  {
   "cell_type": "code",
   "execution_count": 5,
   "metadata": {},
   "outputs": [],
   "source": [
    "# IMPORT LIBRARIES\n",
    "import pandas as pd\n",
    "import numpy as np\n",
    "pd.options.display.max_columns = None\n",
    "pd.options.display.max_rows = None\n",
    "import matplotlib.pyplot as plt\n",
    "%matplotlib inline\n",
    "from sklearn.model_selection import train_test_split\n",
    "from sklearn.metrics import mean_absolute_error, mean_squared_error, r2_score"
   ]
  },
  {
   "cell_type": "markdown",
   "metadata": {},
   "source": [
    "### Select columns of interest\n",
    "\n",
    "According to the conclusion from the notebook ``Data_Analysis_01.ipynb``, I will use the following columns:\n",
    "\n",
    "- ``month``\n",
    "- ``hour``\n",
    "- ``week``\n",
    "- ``dayofweek``\n",
    "- ``isholiday``\n",
    "- ``LocationID``\n",
    "- ``precipitation``\n",
    "- ``pickups``"
   ]
  },
  {
   "cell_type": "code",
   "execution_count": 6,
   "metadata": {
    "scrolled": true
   },
   "outputs": [
    {
     "name": "stdout",
     "output_type": "stream",
     "text": [
      "<class 'pandas.core.frame.DataFrame'>\n",
      "RangeIndex: 586920 entries, 0 to 586919\n",
      "Data columns (total 8 columns):\n",
      "month            586920 non-null int64\n",
      "hour             586920 non-null int64\n",
      "week             586920 non-null int64\n",
      "dayofweek        586920 non-null int64\n",
      "isholiday        586920 non-null int64\n",
      "LocationID       586920 non-null object\n",
      "precipitation    586920 non-null float64\n",
      "pickups          586920 non-null float64\n",
      "dtypes: float64(2), int64(5), object(1)\n",
      "memory usage: 35.8+ MB\n"
     ]
    },
    {
     "data": {
      "text/html": [
       "<div>\n",
       "<style scoped>\n",
       "    .dataframe tbody tr th:only-of-type {\n",
       "        vertical-align: middle;\n",
       "    }\n",
       "\n",
       "    .dataframe tbody tr th {\n",
       "        vertical-align: top;\n",
       "    }\n",
       "\n",
       "    .dataframe thead th {\n",
       "        text-align: right;\n",
       "    }\n",
       "</style>\n",
       "<table border=\"1\" class=\"dataframe\">\n",
       "  <thead>\n",
       "    <tr style=\"text-align: right;\">\n",
       "      <th></th>\n",
       "      <th>month</th>\n",
       "      <th>hour</th>\n",
       "      <th>week</th>\n",
       "      <th>dayofweek</th>\n",
       "      <th>isholiday</th>\n",
       "      <th>LocationID</th>\n",
       "      <th>precipitation</th>\n",
       "      <th>pickups</th>\n",
       "    </tr>\n",
       "  </thead>\n",
       "  <tbody>\n",
       "    <tr>\n",
       "      <td>0</td>\n",
       "      <td>1</td>\n",
       "      <td>0</td>\n",
       "      <td>1</td>\n",
       "      <td>1</td>\n",
       "      <td>1</td>\n",
       "      <td>4</td>\n",
       "      <td>0.13</td>\n",
       "      <td>49.0</td>\n",
       "    </tr>\n",
       "    <tr>\n",
       "      <td>1</td>\n",
       "      <td>1</td>\n",
       "      <td>0</td>\n",
       "      <td>1</td>\n",
       "      <td>1</td>\n",
       "      <td>1</td>\n",
       "      <td>12</td>\n",
       "      <td>0.13</td>\n",
       "      <td>4.0</td>\n",
       "    </tr>\n",
       "    <tr>\n",
       "      <td>2</td>\n",
       "      <td>1</td>\n",
       "      <td>0</td>\n",
       "      <td>1</td>\n",
       "      <td>1</td>\n",
       "      <td>1</td>\n",
       "      <td>13</td>\n",
       "      <td>0.13</td>\n",
       "      <td>64.0</td>\n",
       "    </tr>\n",
       "    <tr>\n",
       "      <td>3</td>\n",
       "      <td>1</td>\n",
       "      <td>0</td>\n",
       "      <td>1</td>\n",
       "      <td>1</td>\n",
       "      <td>1</td>\n",
       "      <td>24</td>\n",
       "      <td>0.13</td>\n",
       "      <td>53.0</td>\n",
       "    </tr>\n",
       "    <tr>\n",
       "      <td>4</td>\n",
       "      <td>1</td>\n",
       "      <td>0</td>\n",
       "      <td>1</td>\n",
       "      <td>1</td>\n",
       "      <td>1</td>\n",
       "      <td>41</td>\n",
       "      <td>0.13</td>\n",
       "      <td>82.0</td>\n",
       "    </tr>\n",
       "  </tbody>\n",
       "</table>\n",
       "</div>"
      ],
      "text/plain": [
       "   month  hour  week  dayofweek  isholiday LocationID  precipitation  pickups\n",
       "0      1     0     1          1          1          4           0.13     49.0\n",
       "1      1     0     1          1          1         12           0.13      4.0\n",
       "2      1     0     1          1          1         13           0.13     64.0\n",
       "3      1     0     1          1          1         24           0.13     53.0\n",
       "4      1     0     1          1          1         41           0.13     82.0"
      ]
     },
     "execution_count": 6,
     "metadata": {},
     "output_type": "execute_result"
    }
   ],
   "source": [
    "# Import dataset\n",
    "df = pd.read_csv('../data/Data_Cleaned_2019_To_Model.csv', sep=',',                 \n",
    "                 dtype = {\"LocationID\" : \"object\"},\n",
    "                 parse_dates=['datetime'])\n",
    "\n",
    "# Select columns of interest\n",
    "df = df[['month', 'hour', 'week', 'dayofweek', 'isholiday', 'LocationID', 'precipitation', 'pickups']]\n",
    "df.info() # check dtypes\n",
    "df.head()"
   ]
  },
  {
   "cell_type": "markdown",
   "metadata": {},
   "source": [
    "### Separate Input and Output variables\n",
    "\n",
    "**INPUT variables**: (must be Pandas DataFrame)\n",
    "- ``month``\n",
    "- ``hour``\n",
    "- ``week``\n",
    "- ``dayofweek``\n",
    "- ``isholiday``\n",
    "- ``LocationID``\n",
    "- ``precipitation``\n",
    "\n",
    "**OUTPUT variable**: (must Pandas Series)\n",
    "- ``pickups``"
   ]
  },
  {
   "cell_type": "code",
   "execution_count": 7,
   "metadata": {},
   "outputs": [
    {
     "name": "stdout",
     "output_type": "stream",
     "text": [
      "FEATURES 'X' should be a Pandas DataFrame:  <class 'pandas.core.frame.DataFrame'>\n"
     ]
    },
    {
     "data": {
      "text/html": [
       "<div>\n",
       "<style scoped>\n",
       "    .dataframe tbody tr th:only-of-type {\n",
       "        vertical-align: middle;\n",
       "    }\n",
       "\n",
       "    .dataframe tbody tr th {\n",
       "        vertical-align: top;\n",
       "    }\n",
       "\n",
       "    .dataframe thead th {\n",
       "        text-align: right;\n",
       "    }\n",
       "</style>\n",
       "<table border=\"1\" class=\"dataframe\">\n",
       "  <thead>\n",
       "    <tr style=\"text-align: right;\">\n",
       "      <th></th>\n",
       "      <th>month</th>\n",
       "      <th>hour</th>\n",
       "      <th>week</th>\n",
       "      <th>dayofweek</th>\n",
       "      <th>isholiday</th>\n",
       "      <th>LocationID</th>\n",
       "      <th>precipitation</th>\n",
       "    </tr>\n",
       "  </thead>\n",
       "  <tbody>\n",
       "    <tr>\n",
       "      <td>0</td>\n",
       "      <td>1</td>\n",
       "      <td>0</td>\n",
       "      <td>1</td>\n",
       "      <td>1</td>\n",
       "      <td>1</td>\n",
       "      <td>4</td>\n",
       "      <td>0.13</td>\n",
       "    </tr>\n",
       "    <tr>\n",
       "      <td>1</td>\n",
       "      <td>1</td>\n",
       "      <td>0</td>\n",
       "      <td>1</td>\n",
       "      <td>1</td>\n",
       "      <td>1</td>\n",
       "      <td>12</td>\n",
       "      <td>0.13</td>\n",
       "    </tr>\n",
       "  </tbody>\n",
       "</table>\n",
       "</div>"
      ],
      "text/plain": [
       "   month  hour  week  dayofweek  isholiday LocationID  precipitation\n",
       "0      1     0     1          1          1          4           0.13\n",
       "1      1     0     1          1          1         12           0.13"
      ]
     },
     "metadata": {},
     "output_type": "display_data"
    },
    {
     "name": "stdout",
     "output_type": "stream",
     "text": [
      "TARGET VARIABLE 'y' should be a Pandas Series:  <class 'pandas.core.series.Series'>\n"
     ]
    },
    {
     "data": {
      "text/plain": [
       "0    49.0\n",
       "1     4.0\n",
       "Name: pickups, dtype: float64"
      ]
     },
     "metadata": {},
     "output_type": "display_data"
    }
   ],
   "source": [
    "# Separate variables\n",
    "X = df[['month','hour','week','dayofweek','isholiday','LocationID','precipitation']]\n",
    "y = df['pickups']\n",
    "print(\"FEATURES 'X' should be a Pandas DataFrame: \", type(X)) # 'X' must be DataFrame and 'y' must be a Pandas Series\n",
    "display(X.head(2))\n",
    "print(\"TARGET VARIABLE 'y' should be a Pandas Series: \",type(y))\n",
    "display(y.head(2))"
   ]
  },
  {
   "cell_type": "markdown",
   "metadata": {},
   "source": [
    "# Split data\n",
    "\n",
    "Using the custom function ``split_data()`` I get the **training**, **validation** and **test** data."
   ]
  },
  {
   "cell_type": "code",
   "execution_count": 15,
   "metadata": {},
   "outputs": [
    {
     "name": "stdout",
     "output_type": "stream",
     "text": [
      "X_train: 352152 (60.0%)\n",
      "y_train: 352152 (60.0%)\n",
      "X_val: 117384 (20.0%)\n",
      "y_val: 117384 (20.0%)\n",
      "X_test: 117384 (20.0%)\n",
      "y_test: 117384 (20.0%)\n"
     ]
    }
   ],
   "source": [
    "X_train, X_val, X_test, y_train, y_val, y_test = split_data(X,y)"
   ]
  },
  {
   "cell_type": "markdown",
   "metadata": {},
   "source": [
    "# Models\n",
    "\n",
    "As the output variable is a number we need to solve a **regression** problem.\n",
    "\n",
    "I will start with:\n",
    "- **Linear Regression**\n",
    "- **K Nearest Neighbour Regressor**\n",
    "- **Decision Tree Regressor**"
   ]
  },
  {
   "cell_type": "markdown",
   "metadata": {},
   "source": [
    "### Baseline model: average of pickups per zone, per hour\n",
    "\n",
    "I will use this baseline model to compare the results with the regression models."
   ]
  },
  {
   "cell_type": "code",
   "execution_count": null,
   "metadata": {},
   "outputs": [],
   "source": [
    "df.head(100)"
   ]
  },
  {
   "cell_type": "code",
   "execution_count": null,
   "metadata": {},
   "outputs": [],
   "source": [
    "basemodel = df.groupby(['hour', 'LocationID']).sum()\n",
    "basemodel.sort_index()\n",
    "basemodel.head(100)"
   ]
  },
  {
   "cell_type": "code",
   "execution_count": null,
   "metadata": {},
   "outputs": [],
   "source": []
  },
  {
   "cell_type": "code",
   "execution_count": null,
   "metadata": {},
   "outputs": [],
   "source": []
  },
  {
   "cell_type": "code",
   "execution_count": null,
   "metadata": {},
   "outputs": [],
   "source": []
  },
  {
   "cell_type": "markdown",
   "metadata": {},
   "source": [
    "date time object into unix-tipe format"
   ]
  },
  {
   "cell_type": "code",
   "execution_count": null,
   "metadata": {
    "scrolled": true
   },
   "outputs": [],
   "source": [
    "df.info()"
   ]
  },
  {
   "cell_type": "markdown",
   "metadata": {},
   "source": [
    "## Linear Regression"
   ]
  },
  {
   "cell_type": "code",
   "execution_count": 16,
   "metadata": {},
   "outputs": [],
   "source": [
    "from sklearn.linear_model import LinearRegression\n",
    "from sklearn.model_selection import GridSearchCV\n",
    "\n",
    "# Create an instance of the model and train it\n",
    "reg = LinearRegression()\n",
    "reg.fit(X_train, y_train)\n",
    "\n",
    "# Do predictions\n",
    "reg_y_pred = reg.predict(X_val)"
   ]
  },
  {
   "cell_type": "markdown",
   "metadata": {},
   "source": [
    "#### Get metrics and plot Real vs Predicted values\n",
    "\n",
    "I can see with the graph that predictions are quite bad.\n",
    "\n",
    "Metrics confirm this. There is a weak correlation (0.33) between real values and predictions and errors of 110-150 (MAE-RMSE) are not good enough for the scale of the pickups variable."
   ]
  },
  {
   "cell_type": "code",
   "execution_count": 23,
   "metadata": {},
   "outputs": [
    {
     "name": "stdout",
     "output_type": "stream",
     "text": [
      "MODEL:  Linear Regression\n",
      "MAE:  110.11816891188789\n",
      "RMSE:  150.91705611228386\n",
      "R^2 (Coefficient of determination):  0.1092576219241913\n",
      "R (Correlation coefficient):  0.33076886258728294\n"
     ]
    },
    {
     "data": {
      "image/png": "[encoded data removed]",
      "text/plain": [
       "<Figure size 1152x360 with 1 Axes>"
      ]
     },
     "metadata": {},
     "output_type": "display_data"
    }
   ],
   "source": [
    "reg_metrics = get_metrics('Linear Regression',y_val, reg_y_pred)\n",
    "plot_real_vs_pred('Linear Regression', y_val, reg_y_pred)"
   ]
  },
  {
   "cell_type": "markdown",
   "metadata": {},
   "source": [
    "### K Nearest Neighbour Regressor (KNN)\n",
    "\n",
    "After a couple of iterations (trial and error) these are the parameters I found best:\n",
    "\n",
    "- ``k = 2``  \n",
    "- ``weights = 'uniform'``"
   ]
  },
  {
   "cell_type": "code",
   "execution_count": 20,
   "metadata": {
    "scrolled": false
   },
   "outputs": [],
   "source": [
    "from sklearn.neighbors import KNeighborsRegressor\n",
    "from sklearn.model_selection import GridSearchCV\n",
    "\n",
    "# Create an instance.\n",
    "regk = KNeighborsRegressor(n_neighbors=2, weights = 'uniform')\n",
    "\n",
    "# Train the data\n",
    "regk.fit(X_train, y_train)\n",
    "\n",
    "# Do predictions\n",
    "regk_y_pred = regk.predict(X_val)"
   ]
  },
  {
   "cell_type": "markdown",
   "metadata": {},
   "source": [
    "#### Get metrics and plot Real vs Predicted values\n",
    "\n",
    "There is a significant improvement with KNN. It is even noticeable in the bar plot where 'Actual' and 'Preedicted' are more similar.  \n",
    "``R2`` and ``R`` show a strong correlation between real values and predicted ones.\n",
    "Also, and error of 26 (``MAE``) or 50 (``RMSE``) it is relatively not that bad. In zones with and average of 300 pickups per hour may give us good predictions but in other zones with just 10-20 pickups per hour, the prediction may differ a lot from the reality.\n",
    "\n",
    "**Conclusion**: I am happy with ``R2`` and ``R`` values. In the next models I will try to lower ``MAE`` and ``RMSE``."
   ]
  },
  {
   "cell_type": "code",
   "execution_count": 21,
   "metadata": {},
   "outputs": [
    {
     "name": "stdout",
     "output_type": "stream",
     "text": [
      "MODEL:  KNN\n",
      "MAE:  26.965242281741975\n",
      "RMSE:  50.84534576960667\n",
      "R^2 (Coefficient of determination):  0.8988937797534982\n",
      "R (Correlation coefficient):  0.9484065103130591\n"
     ]
    },
    {
     "data": {
      "image/png": "[encoded data removed]",
      "text/plain": [
       "<Figure size 1152x360 with 1 Axes>"
      ]
     },
     "metadata": {},
     "output_type": "display_data"
    }
   ],
   "source": [
    "regk_metrics = get_metrics('KNN',y_val, regk_y_pred)\n",
    "plot_real_vs_pred('KNN', y_val, regk_y_pred)"
   ]
  },
  {
   "cell_type": "markdown",
   "metadata": {},
   "source": [
    "### Decision Tree Regressor\n",
    "\n",
    "After a couple of iterations (trial and error) these are the parameters I found best:\n",
    "\n",
    "``max_depth`` (number of splits): ``20``  \n",
    "``min_samples_leaf`` (minimum number of samples for each split group): ``15``\n",
    "\n",
    "It seems that if I increase those values the model does not improve."
   ]
  },
  {
   "cell_type": "code",
   "execution_count": 25,
   "metadata": {},
   "outputs": [],
   "source": [
    "from sklearn.tree import DecisionTreeRegressor\n",
    "\n",
    "# Create an instance.\n",
    "regd = DecisionTreeRegressor (max_depth = 20,\n",
    "                              min_samples_leaf=15)\n",
    "\n",
    "# Train the data\n",
    "regd.fit(X_train, y_train)\n",
    "\n",
    "# Do predictions\n",
    "regd_y_pred = regd.predict(X_val)"
   ]
  },
  {
   "cell_type": "markdown",
   "metadata": {},
   "source": [
    "#### Get metrics and plot Real vs Predicted values\n",
    "\n",
    "There is a bit of improvement in comparison with the KNN model.  \n",
    "It is not noticable in the bar plot but the metrics are better."
   ]
  },
  {
   "cell_type": "code",
   "execution_count": 31,
   "metadata": {
    "scrolled": false
   },
   "outputs": [
    {
     "name": "stdout",
     "output_type": "stream",
     "text": [
      "MODEL:  Decision Tree\n",
      "MAE:  18.31967946384341\n",
      "RMSE:  36.54874516596225\n",
      "R^2 (Coefficient of determination):  0.9477579264109853\n",
      "R (Correlation coefficient):  0.9735426284154586\n"
     ]
    },
    {
     "data": {
      "image/png": "[encoded data removed]",
      "text/plain": [
       "<Figure size 1152x360 with 1 Axes>"
      ]
     },
     "metadata": {},
     "output_type": "display_data"
    }
   ],
   "source": [
    "regd_metrics = get_metrics('Decision Tree', y_val, regd_y_pred)\n",
    "plot_real_vs_pred('Decision Tree', y_val, regd_y_pred)"
   ]
  },
  {
   "cell_type": "markdown",
   "metadata": {},
   "source": [
    "### Compare metrics\n",
    "\n",
    "**Linear Regression** is the worst model, far away from the other two.  \n",
    "**Decision Tree** beats **KNN** for a small but relevant amount."
   ]
  },
  {
   "cell_type": "code",
   "execution_count": 28,
   "metadata": {},
   "outputs": [
    {
     "data": {
      "image/png": "[encoded data removed]",
      "text/plain": [
       "<Figure size 576x648 with 4 Axes>"
      ]
     },
     "metadata": {},
     "output_type": "display_data"
    }
   ],
   "source": [
    "compare_model_metrics([reg_metrics, regk_metrics, regd_metrics])"
   ]
  },
  {
   "cell_type": "markdown",
   "metadata": {},
   "source": [
    "# Second approach: using GridSearchCV\n",
    "\n",
    "I will not try to improve LinearRegression as their results are very bad and far from KNN and Decision Trees"
   ]
  },
  {
   "cell_type": "markdown",
   "metadata": {},
   "source": [
    "### K Nearest Neighbour Regressor_GridSearchCV"
   ]
  },
  {
   "cell_type": "code",
   "execution_count": null,
   "metadata": {},
   "outputs": [],
   "source": [
    "from sklearn.model_selection import GridSearchCV\n",
    "from sklearn.neighbors import KNeighborsRegressor\n",
    "\n",
    "regk_grid = GridSearchCV(KNeighborsRegressor(),\n",
    "                       param_grid={\"n_neighbors\":np.arange(2,5)},\n",
    "                       cv = 2,\n",
    "                       scoring = \"neg_mean_absolute_error\")\n",
    "\n",
    "# Train the model with the dataset\n",
    "regk_grid.fit(X_train,y_train)\n",
    "\n",
    "# Do predictions\n",
    "regk_grid_y_pred = regk_grid.predict(X_val)\n",
    "%time"
   ]
  },
  {
   "cell_type": "code",
   "execution_count": null,
   "metadata": {
    "scrolled": false
   },
   "outputs": [],
   "source": [
    "regk_grid_metrics = get_metrics('KNN_Grid', y_val, regk_grid_y_pred)\n",
    "plot_real_vs_pred('KNN_Grid', y_val, regk_grid_y_pred)"
   ]
  },
  {
   "cell_type": "code",
   "execution_count": null,
   "metadata": {
    "scrolled": false
   },
   "outputs": [],
   "source": [
    "visualize_metrics(regd_metrics, regk_metrics, regk_grid_metrics)"
   ]
  },
  {
   "cell_type": "markdown",
   "metadata": {},
   "source": [
    "# REPASAR FUNCIÓN DE VISUALIZACIÓN, ALGO NO ESTÁ BIEN"
   ]
  },
  {
   "cell_type": "markdown",
   "metadata": {},
   "source": [
    "## MAE"
   ]
  },
  {
   "cell_type": "markdown",
   "metadata": {},
   "source": [
    "Measures average magnitud of the errors without considering their direction (all errors in absolute value). It is intuitive to calculate, but you lose information related to the magnitud of the error.<br>\n",
    "Units are the same as the target variable.<br>\n",
    "Value range from 0 to infinite. Lower values are better."
   ]
  },
  {
   "cell_type": "code",
   "execution_count": null,
   "metadata": {},
   "outputs": [],
   "source": [
    "from sklearn.metrics import mean_absolute_error\n",
    "\n",
    "# Use against predictions\n",
    "MAE = mean_absolute_error(reg.predict(X_val), y_val)\n",
    "MAE"
   ]
  },
  {
   "cell_type": "markdown",
   "metadata": {},
   "source": [
    "## MAPE"
   ]
  },
  {
   "cell_type": "markdown",
   "metadata": {},
   "source": [
    "Similar to MAE but it measures the error in percentage.<br>\n",
    "Lower values are better.<br>\n",
    "MAPE is not in sklearn so I calculate it MANUALLY with pandas:"
   ]
  },
  {
   "cell_type": "code",
   "execution_count": null,
   "metadata": {},
   "outputs": [],
   "source": [
    "MAPE = np.mean(np.abs(reg.predict(X_val) - y_val)/y_val)\n",
    "MAPE"
   ]
  },
  {
   "cell_type": "markdown",
   "metadata": {},
   "source": [
    "## RMSE"
   ]
  },
  {
   "cell_type": "markdown",
   "metadata": {},
   "source": [
    "Measures average magnitud of errors.<br>\n",
    "Units are the same as the target variable.<br>\n",
    "Value range from 0 to infinite. Lower values are better."
   ]
  },
  {
   "cell_type": "code",
   "execution_count": null,
   "metadata": {},
   "outputs": [],
   "source": [
    "from sklearn.metrics import mean_absolute_error\n",
    "\n",
    "# Use against predictions (we have to calculate the squared root of MSE)\n",
    "RMSE = np.sqrt(mean_absolute_error(reg.predict(X_val), y_val))\n",
    "RMSE"
   ]
  },
  {
   "cell_type": "code",
   "execution_count": null,
   "metadata": {
    "scrolled": true
   },
   "outputs": [],
   "source": [
    "print('MEAN: ', y_val.mean())\n",
    "print('MEDIAN: ', y_val.median())\n",
    "print('MAE: ', MAE)\n",
    "print('MAPE: ', MAPE)\n",
    "print('RMSE: ', RMSE)"
   ]
  },
  {
   "cell_type": "markdown",
   "metadata": {},
   "source": [
    "## Correlation"
   ]
  },
  {
   "cell_type": "markdown",
   "metadata": {},
   "source": [
    "**There should be a strong correlation between predictions and real values.<br>\n",
    "However, I get a very week correlation value of 0.31**"
   ]
  },
  {
   "cell_type": "code",
   "execution_count": null,
   "metadata": {
    "scrolled": true
   },
   "outputs": [],
   "source": [
    "np.corrcoef(reg.predict(X_val), y_val)[0][1]"
   ]
  },
  {
   "cell_type": "markdown",
   "metadata": {},
   "source": [
    "## Bias\n",
    "It is the average of errors (prediction values minus real values).<br>\n",
    "Negative errors will compensate positive ones."
   ]
  },
  {
   "cell_type": "code",
   "execution_count": null,
   "metadata": {},
   "outputs": [],
   "source": [
    "bias = np.mean(reg.predict(X_val) - y_val)\n",
    "bias"
   ]
  },
  {
   "cell_type": "markdown",
   "metadata": {},
   "source": [
    "## Variance\n",
    "Is the average of errors in predictions between two different data sets."
   ]
  },
  {
   "cell_type": "code",
   "execution_count": null,
   "metadata": {
    "scrolled": true
   },
   "outputs": [],
   "source": [
    "# create table from X_train with same number of rows as X_val\n",
    "# so it can be used to calculate the variance\n",
    "X_train_for_variance = X_train.head(X_val.shape[0])\n",
    "\n",
    "variance = np.mean(reg.predict(X_train_for_variance) - reg.predict(X_val))\n",
    "variance"
   ]
  },
  {
   "cell_type": "code",
   "execution_count": null,
   "metadata": {},
   "outputs": [],
   "source": [
    "# Merge X_train with predictions\n",
    "combine = X_train.copy()\n",
    "combine['pickups'] = y_train\n",
    "combine['pickups Prediction'] = reg.predict(X_train)\n",
    "\n",
    "combine.head(100)"
   ]
  },
  {
   "cell_type": "code",
   "execution_count": null,
   "metadata": {},
   "outputs": [],
   "source": [
    "# Merge X_test with predictions\n",
    "combine2 = X_test.copy()\n",
    "combine2['pickups'] = y_test\n",
    "combine2['pickups Prediction'] = reg.predict(X_test)\n",
    "\n",
    "combine2.head(100)"
   ]
  },
  {
   "cell_type": "code",
   "execution_count": null,
   "metadata": {
    "scrolled": false
   },
   "outputs": [],
   "source": [
    "predictions = reg.predict(X_test)\n",
    "X_test_g = X_test.groupby(['month', 'day','hour','LocationID']).sum()\n",
    "X_test_g.head(100)"
   ]
  },
  {
   "cell_type": "markdown",
   "metadata": {},
   "source": [
    "## Pack model with Pickle"
   ]
  },
  {
   "cell_type": "code",
   "execution_count": null,
   "metadata": {},
   "outputs": [],
   "source": [
    "import pickle\n",
    "pickle.dump(reg,open('./model_reg_01.pickle','wb'))"
   ]
  }
 ],
 "metadata": {
  "kernelspec": {
   "display_name": "Python 3",
   "language": "python",
   "name": "python3"
  },
  "language_info": {
   "codemirror_mode": {
    "name": "ipython",
    "version": 3
   },
   "file_extension": ".py",
   "mimetype": "text/x-python",
   "name": "python",
   "nbconvert_exporter": "python",
   "pygments_lexer": "ipython3",
   "version": "3.7.4"
  }
 },
 "nbformat": 4,
 "nbformat_minor": 2
}
