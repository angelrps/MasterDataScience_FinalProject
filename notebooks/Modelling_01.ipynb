{
 "cells": [
  {
   "cell_type": "markdown",
   "metadata": {},
   "source": [
    "# Modelling 01\n",
    "\n",
    "In this notebook I will explore different predictive models.  \n",
    "First, I will create a baseline model by calculating the average of pickups per zone and per hour.  \n",
    "After that, I will use some regression models to compare with the baseline model and select the best one.\n",
    "\n",
    "### 1. [Import dataset and select features](#Import-dataset-and-select-features)\n",
    "\n",
    "- [Select columns of interest](#Select-columns-of-interest)\n",
    "- [Separate Input and Output variables](#Separate-Input-and-Output-variables)\n",
    "\n",
    "### 2. [Split data](#Split-data)"
   ]
  },
  {
   "cell_type": "markdown",
   "metadata": {},
   "source": [
    "NOTE: Create base model. It will give us the baseline accuracy and and I should try to beat this baseline accuracy using more advanced techniques. This base model could be the average for a specific hour."
   ]
  },
  {
   "cell_type": "markdown",
   "metadata": {},
   "source": [
    "# Import dataset and select features\n",
    "\n",
    "From the cleaned datasets saved from previous notebooks, I will use the one from ``2019`` and will leave the others (``2018`` and ``2017``) in case I need more training data."
   ]
  },
  {
   "cell_type": "code",
   "execution_count": 1,
   "metadata": {},
   "outputs": [],
   "source": [
    "# IMPORT LIBRARIES\n",
    "import pandas as pd\n",
    "import numpy as np\n",
    "pd.options.display.max_columns = None\n",
    "pd.options.display.max_rows = None\n",
    "import matplotlib.pyplot as plt\n",
    "%matplotlib inline\n",
    "from sklearn.model_selection import train_test_split"
   ]
  },
  {
   "cell_type": "markdown",
   "metadata": {},
   "source": [
    "### Select columns of interest\n",
    "\n",
    "According to the conclusion from the notebook ``Data_Analysis_01.ipynb``, I will not use the following columns:\n",
    "\n",
    "- ``month``\n",
    "- ``hour``\n",
    "- ``week``\n",
    "- ``dayofweek``\n",
    "- ``isholiday``\n",
    "- ``LocationID``\n",
    "- ``precipitation``\n",
    "- ``pickups``"
   ]
  },
  {
   "cell_type": "code",
   "execution_count": 2,
   "metadata": {
    "scrolled": true
   },
   "outputs": [
    {
     "name": "stdout",
     "output_type": "stream",
     "text": [
      "<class 'pandas.core.frame.DataFrame'>\n",
      "RangeIndex: 586920 entries, 0 to 586919\n",
      "Data columns (total 8 columns):\n",
      "month            586920 non-null int64\n",
      "hour             586920 non-null int64\n",
      "week             586920 non-null int64\n",
      "dayofweek        586920 non-null int64\n",
      "isholiday        586920 non-null int64\n",
      "LocationID       586920 non-null object\n",
      "precipitation    586920 non-null float64\n",
      "pickups          586920 non-null float64\n",
      "dtypes: float64(2), int64(5), object(1)\n",
      "memory usage: 35.8+ MB\n"
     ]
    },
    {
     "data": {
      "text/html": [
       "<div>\n",
       "<style scoped>\n",
       "    .dataframe tbody tr th:only-of-type {\n",
       "        vertical-align: middle;\n",
       "    }\n",
       "\n",
       "    .dataframe tbody tr th {\n",
       "        vertical-align: top;\n",
       "    }\n",
       "\n",
       "    .dataframe thead th {\n",
       "        text-align: right;\n",
       "    }\n",
       "</style>\n",
       "<table border=\"1\" class=\"dataframe\">\n",
       "  <thead>\n",
       "    <tr style=\"text-align: right;\">\n",
       "      <th></th>\n",
       "      <th>month</th>\n",
       "      <th>hour</th>\n",
       "      <th>week</th>\n",
       "      <th>dayofweek</th>\n",
       "      <th>isholiday</th>\n",
       "      <th>LocationID</th>\n",
       "      <th>precipitation</th>\n",
       "      <th>pickups</th>\n",
       "    </tr>\n",
       "  </thead>\n",
       "  <tbody>\n",
       "    <tr>\n",
       "      <td>0</td>\n",
       "      <td>1</td>\n",
       "      <td>0</td>\n",
       "      <td>1</td>\n",
       "      <td>1</td>\n",
       "      <td>1</td>\n",
       "      <td>4</td>\n",
       "      <td>0.13</td>\n",
       "      <td>49.0</td>\n",
       "    </tr>\n",
       "    <tr>\n",
       "      <td>1</td>\n",
       "      <td>1</td>\n",
       "      <td>0</td>\n",
       "      <td>1</td>\n",
       "      <td>1</td>\n",
       "      <td>1</td>\n",
       "      <td>12</td>\n",
       "      <td>0.13</td>\n",
       "      <td>4.0</td>\n",
       "    </tr>\n",
       "    <tr>\n",
       "      <td>2</td>\n",
       "      <td>1</td>\n",
       "      <td>0</td>\n",
       "      <td>1</td>\n",
       "      <td>1</td>\n",
       "      <td>1</td>\n",
       "      <td>13</td>\n",
       "      <td>0.13</td>\n",
       "      <td>64.0</td>\n",
       "    </tr>\n",
       "    <tr>\n",
       "      <td>3</td>\n",
       "      <td>1</td>\n",
       "      <td>0</td>\n",
       "      <td>1</td>\n",
       "      <td>1</td>\n",
       "      <td>1</td>\n",
       "      <td>24</td>\n",
       "      <td>0.13</td>\n",
       "      <td>53.0</td>\n",
       "    </tr>\n",
       "    <tr>\n",
       "      <td>4</td>\n",
       "      <td>1</td>\n",
       "      <td>0</td>\n",
       "      <td>1</td>\n",
       "      <td>1</td>\n",
       "      <td>1</td>\n",
       "      <td>41</td>\n",
       "      <td>0.13</td>\n",
       "      <td>82.0</td>\n",
       "    </tr>\n",
       "  </tbody>\n",
       "</table>\n",
       "</div>"
      ],
      "text/plain": [
       "   month  hour  week  dayofweek  isholiday LocationID  precipitation  pickups\n",
       "0      1     0     1          1          1          4           0.13     49.0\n",
       "1      1     0     1          1          1         12           0.13      4.0\n",
       "2      1     0     1          1          1         13           0.13     64.0\n",
       "3      1     0     1          1          1         24           0.13     53.0\n",
       "4      1     0     1          1          1         41           0.13     82.0"
      ]
     },
     "execution_count": 2,
     "metadata": {},
     "output_type": "execute_result"
    }
   ],
   "source": [
    "# Import dataset\n",
    "df = pd.read_csv('../data/Data_Cleaned_2019_To_Model.csv', sep=',',                 \n",
    "                 dtype = {\"LocationID\" : \"object\"},\n",
    "                 parse_dates=['datetime'])\n",
    "\n",
    "# Select columns of interest\n",
    "df = df[['month', 'hour', 'week', 'dayofweek', 'isholiday', 'LocationID', 'precipitation', 'pickups']]\n",
    "df.info() # check dtypes\n",
    "df.head()"
   ]
  },
  {
   "cell_type": "markdown",
   "metadata": {},
   "source": [
    "### Separate Input and Output variables\n",
    "\n",
    "**INPUT variables**: (must be Pandas DataFrame)\n",
    "- ``month``\n",
    "- ``hour``\n",
    "- ``week``\n",
    "- ``dayofweek``\n",
    "- ``isholiday``\n",
    "- ``LocationID``\n",
    "- ``precipitation``\n",
    "\n",
    "**OUTPUT variable**: (must Pandas Series)\n",
    "- ``pickups``"
   ]
  },
  {
   "cell_type": "code",
   "execution_count": 3,
   "metadata": {},
   "outputs": [
    {
     "name": "stdout",
     "output_type": "stream",
     "text": [
      "FEATURES 'X' should be a Pandas DataFrame:  <class 'pandas.core.frame.DataFrame'>\n"
     ]
    },
    {
     "data": {
      "text/html": [
       "<div>\n",
       "<style scoped>\n",
       "    .dataframe tbody tr th:only-of-type {\n",
       "        vertical-align: middle;\n",
       "    }\n",
       "\n",
       "    .dataframe tbody tr th {\n",
       "        vertical-align: top;\n",
       "    }\n",
       "\n",
       "    .dataframe thead th {\n",
       "        text-align: right;\n",
       "    }\n",
       "</style>\n",
       "<table border=\"1\" class=\"dataframe\">\n",
       "  <thead>\n",
       "    <tr style=\"text-align: right;\">\n",
       "      <th></th>\n",
       "      <th>month</th>\n",
       "      <th>hour</th>\n",
       "      <th>week</th>\n",
       "      <th>dayofweek</th>\n",
       "      <th>isholiday</th>\n",
       "      <th>LocationID</th>\n",
       "      <th>precipitation</th>\n",
       "    </tr>\n",
       "  </thead>\n",
       "  <tbody>\n",
       "    <tr>\n",
       "      <td>0</td>\n",
       "      <td>1</td>\n",
       "      <td>0</td>\n",
       "      <td>1</td>\n",
       "      <td>1</td>\n",
       "      <td>1</td>\n",
       "      <td>4</td>\n",
       "      <td>0.13</td>\n",
       "    </tr>\n",
       "    <tr>\n",
       "      <td>1</td>\n",
       "      <td>1</td>\n",
       "      <td>0</td>\n",
       "      <td>1</td>\n",
       "      <td>1</td>\n",
       "      <td>1</td>\n",
       "      <td>12</td>\n",
       "      <td>0.13</td>\n",
       "    </tr>\n",
       "  </tbody>\n",
       "</table>\n",
       "</div>"
      ],
      "text/plain": [
       "   month  hour  week  dayofweek  isholiday LocationID  precipitation\n",
       "0      1     0     1          1          1          4           0.13\n",
       "1      1     0     1          1          1         12           0.13"
      ]
     },
     "metadata": {},
     "output_type": "display_data"
    },
    {
     "name": "stdout",
     "output_type": "stream",
     "text": [
      "TARGET VARIABLE 'y' should be a Pandas Series:  <class 'pandas.core.series.Series'>\n"
     ]
    },
    {
     "data": {
      "text/plain": [
       "0    49.0\n",
       "1     4.0\n",
       "Name: pickups, dtype: float64"
      ]
     },
     "metadata": {},
     "output_type": "display_data"
    }
   ],
   "source": [
    "# IMPORT LIBRARIES\n",
    "from sklearn.model_selection import train_test_split\n",
    "\n",
    "# 2. Separate variables\n",
    "X = df[['month','hour','week','dayofweek','isholiday','LocationID','precipitation']]\n",
    "y = df['pickups']\n",
    "print(\"FEATURES 'X' should be a Pandas DataFrame: \", type(X)) # 'X' must be DataFrame and 'y' must be a Pandas Series\n",
    "display(X.head(2))\n",
    "print(\"TARGET VARIABLE 'y' should be a Pandas Series: \",type(y))\n",
    "display(y.head(2))\n"
   ]
  },
  {
   "cell_type": "markdown",
   "metadata": {},
   "source": [
    "# Split data\n",
    "\n",
    "I will use ``train_test_split()`` from sklearn twice to split the data in:\n",
    "- Train: 60%\n",
    "- Validation: 20% (to validate training)\n",
    "- Test: 20% (to validate the model)"
   ]
  },
  {
   "cell_type": "code",
   "execution_count": 4,
   "metadata": {},
   "outputs": [],
   "source": [
    "# 3. FUNCTION TO SPLIT DATA\n",
    "def split_data(X,y):\n",
    "    valSize = 0.25 #0.8 * 0.2 = 0.2\n",
    "    testSize = 0.2\n",
    "\n",
    "    # Split TRAIN-TEST\n",
    "    X_train, X_test, y_train, y_test = train_test_split(X, y, test_size=0.2, random_state=1)\n",
    "\n",
    "    # Split TRAIN-VALIDATION\n",
    "    X_train, X_val, y_train, y_val = train_test_split(X_train, y_train, test_size=valSize, random_state=1)\n",
    "    \n",
    "    print('X_train: ',X_train.shape[0]/X.shape[0])\n",
    "    print('y_train: ',y_train.shape[0]/X.shape[0])\n",
    "\n",
    "    print('X_val: ',X_val.shape[0]/X.shape[0])\n",
    "    print('y_val: ',y_val.shape[0]/X.shape[0])\n",
    "\n",
    "    print('X_test: ',X_test.shape[0]/X.shape[0])\n",
    "    print('y_test: ',y_test.shape[0]/X.shape[0])\n",
    "    \n",
    "    return X_train, X_test, X_val, y_train, y_test, y_val"
   ]
  },
  {
   "cell_type": "code",
   "execution_count": 5,
   "metadata": {},
   "outputs": [
    {
     "name": "stdout",
     "output_type": "stream",
     "text": [
      "X_train:  0.6\n",
      "y_train:  0.6\n",
      "X_val:  0.2\n",
      "y_val:  0.2\n",
      "X_test:  0.2\n",
      "y_test:  0.2\n"
     ]
    }
   ],
   "source": [
    "X_train, X_test, X_val, y_train, y_test, y_val = split_data(X,y)"
   ]
  },
  {
   "cell_type": "markdown",
   "metadata": {},
   "source": [
    "# Models\n",
    "\n",
    "As the output variable is a number we need to solve a **regression** problem.\n",
    "\n",
    "I will start with the simplest regression model: **LINEAR REGRESSION**"
   ]
  },
  {
   "cell_type": "markdown",
   "metadata": {},
   "source": [
    "### Baseline model: average of pickups per zone, per hour\n",
    "\n",
    "I will use this baseline model to compare the results with the regression models."
   ]
  },
  {
   "cell_type": "code",
   "execution_count": null,
   "metadata": {},
   "outputs": [],
   "source": [
    "df.head(100)"
   ]
  },
  {
   "cell_type": "code",
   "execution_count": null,
   "metadata": {},
   "outputs": [],
   "source": [
    "basemodel = df.groupby(['hour', 'LocationID']).sum()\n",
    "basemodel.sort_index()\n",
    "basemodel.head(100)"
   ]
  },
  {
   "cell_type": "code",
   "execution_count": null,
   "metadata": {},
   "outputs": [],
   "source": []
  },
  {
   "cell_type": "code",
   "execution_count": null,
   "metadata": {},
   "outputs": [],
   "source": []
  },
  {
   "cell_type": "code",
   "execution_count": null,
   "metadata": {},
   "outputs": [],
   "source": []
  },
  {
   "cell_type": "markdown",
   "metadata": {},
   "source": [
    "date time object into unix-tipe format"
   ]
  },
  {
   "cell_type": "code",
   "execution_count": null,
   "metadata": {
    "scrolled": true
   },
   "outputs": [],
   "source": [
    "df.info()"
   ]
  },
  {
   "cell_type": "markdown",
   "metadata": {},
   "source": [
    "### Linear Regression"
   ]
  },
  {
   "cell_type": "markdown",
   "metadata": {},
   "source": [
    "score() Returns the coefficient of determination R^2 of the prediction.<br>\n",
    "Values from 0 to 1. Best is 1.<br>\n",
    "My model has a very poor score...."
   ]
  },
  {
   "cell_type": "code",
   "execution_count": 6,
   "metadata": {},
   "outputs": [],
   "source": [
    "from sklearn.linear_model import LinearRegression\n",
    "from sklearn.model_selection import GridSearchCV\n",
    "\n",
    "# 4.1 Create an instance of the model and train it\n",
    "#reg = LinearRegression().fit(X_train, y_train)\n",
    "reg = LinearRegression()\n",
    "\n",
    "#reg_param = {'fit_intercept':[True,False], 'normalize':[True,False], 'copy_X':[True, False]}\n",
    "#reg_grid = GridSearchCV(reg,reg_param, cv=3)\n",
    "#reg_grid.fit(X_train, y_train)\n",
    "reg.fit(X_train, y_train)\n",
    "\n",
    "# Do predictions\n",
    "reg_y_pred = reg.predict(X_val)"
   ]
  },
  {
   "cell_type": "markdown",
   "metadata": {},
   "source": [
    "### Visualize Real values VS Predicted values"
   ]
  },
  {
   "cell_type": "markdown",
   "metadata": {},
   "source": [
    "I create a function to visually check the difference between the real values and the predicted values."
   ]
  },
  {
   "cell_type": "code",
   "execution_count": 9,
   "metadata": {},
   "outputs": [],
   "source": [
    "def plot_real_vs_pred(y_real, y_pred):\n",
    "    reg_real_vs_pred = pd.DataFrame({'Actual': y_real, 'Predicted': y_pred})\n",
    "    reg_real_vs_pred = reg_real_vs_pred.head(40)\n",
    "    reg_real_vs_pred.plot(kind='bar', figsize=(16,5))\n",
    "    plt.show()"
   ]
  },
  {
   "cell_type": "code",
   "execution_count": 10,
   "metadata": {},
   "outputs": [
    {
     "data": {
      "image/png": "[encoded data removed]",
      "text/plain": [
       "<Figure size 1152x360 with 1 Axes>"
      ]
     },
     "metadata": {
      "needs_background": "light"
     },
     "output_type": "display_data"
    }
   ],
   "source": [
    "plot_real_vs_pred(y_val, reg_y_pred)"
   ]
  },
  {
   "cell_type": "markdown",
   "metadata": {},
   "source": [
    "### Calculate Metrics: MAE, RMSE, R2, Correlation"
   ]
  },
  {
   "cell_type": "code",
   "execution_count": 46,
   "metadata": {},
   "outputs": [],
   "source": [
    "from sklearn.metrics import mean_absolute_error, mean_squared_error, r2_score\n",
    "\n",
    "def get_metrics(y_real, y_pred):\n",
    "    # MAE: same units as target variable. It is more robust to outliers\n",
    "    MAE = mean_absolute_error(y_real, y_pred)\n",
    "\n",
    "    # RMSE: same units as target variable\n",
    "    RMSE = np.sqrt(mean_squared_error(y_real, y_pred))\n",
    "\n",
    "    # Correlation\n",
    "    R = np.corrcoef(y_real, y_pred)[0][1]\n",
    "\n",
    "    # R^2\n",
    "    R2 = r2_score(y_real, y_pred)\n",
    "\n",
    "    print('MAE: ', MAE)\n",
    "    print('RMSE: ', RMSE)\n",
    "    print('R^2 (Coefficient of determination): ', R2)\n",
    "    print('R (Correlation coefficient): ', R)\n",
    "    \n",
    "    return MAE, RMSE, R2, R"
   ]
  },
  {
   "cell_type": "code",
   "execution_count": 49,
   "metadata": {},
   "outputs": [
    {
     "name": "stdout",
     "output_type": "stream",
     "text": [
      "MAE:  110.11816891188789\n",
      "RMSE:  150.91705611228386\n",
      "R^2 (Coefficient of determination):  0.1092576219241913\n",
      "R (Correlation coefficient):  0.33076886258728294\n"
     ]
    }
   ],
   "source": [
    "reg_metrics = get_metrics(y_val, reg_y_pred)"
   ]
  },
  {
   "cell_type": "markdown",
   "metadata": {},
   "source": [
    "### K Nearest Neighbour Regressor (KNN)\n",
    "Parameters:\n",
    "\n",
    "   **k**: number of neighbors <br>\n",
    "   **weight**: way to give more weight to points which are nearby and less weight to the points which are farther away.<br>"
   ]
  },
  {
   "cell_type": "code",
   "execution_count": 13,
   "metadata": {
    "scrolled": false
   },
   "outputs": [],
   "source": [
    "from sklearn.neighbors import KNeighborsRegressor\n",
    "from sklearn.model_selection import GridSearchCV\n",
    "\n",
    "# Create an instance.\n",
    "# Define number of neighbors.\n",
    "# weights possible values: 'uniform', 'distance', [callable] user defined function\n",
    "regk = KNeighborsRegressor(n_neighbors=2, weights = 'uniform')\n",
    "\n",
    "# Train the data\n",
    "regk.fit(X_train, y_train)\n",
    "\n",
    "# Do predictions\n",
    "regk_y_pred = regk.predict(X_val)"
   ]
  },
  {
   "cell_type": "code",
   "execution_count": 50,
   "metadata": {},
   "outputs": [
    {
     "name": "stdout",
     "output_type": "stream",
     "text": [
      "MAE:  26.965242281741975\n",
      "RMSE:  50.84534576960667\n",
      "R^2 (Coefficient of determination):  0.8988937797534982\n",
      "R (Correlation coefficient):  0.9484065103130591\n"
     ]
    },
    {
     "data": {
      "image/png": "[encoded data removed]",
      "text/plain": [
       "<Figure size 1152x360 with 1 Axes>"
      ]
     },
     "metadata": {
      "needs_background": "light"
     },
     "output_type": "display_data"
    }
   ],
   "source": [
    "regk_metrics = get_metrics(y_val, regk_y_pred)\n",
    "plot_real_vs_pred(y_val, regk_y_pred)"
   ]
  },
  {
   "cell_type": "markdown",
   "metadata": {},
   "source": [
    "### Decision Tree Regressor\n",
    "\n",
    "Testing parameters manually these are the best I have found:\n",
    "\n",
    "``max_depth`` (number of splits): ``20``  \n",
    "``min_samples_leaf`` (minimum number of samples for each split group): ``15``\n",
    "\n",
    "It seems that above those values the model does not improve."
   ]
  },
  {
   "cell_type": "code",
   "execution_count": 44,
   "metadata": {},
   "outputs": [],
   "source": [
    "from sklearn.tree import DecisionTreeRegressor\n",
    "\n",
    "# Create an instance.\n",
    "regd = DecisionTreeRegressor (max_depth = 20,\n",
    "                              min_samples_leaf=15)\n",
    "\n",
    "# Train the data\n",
    "regd.fit(X_train, y_train)\n",
    "\n",
    "# Do predictions\n",
    "regd_y_pred = regd.predict(X_val)"
   ]
  },
  {
   "cell_type": "code",
   "execution_count": 51,
   "metadata": {
    "scrolled": false
   },
   "outputs": [
    {
     "name": "stdout",
     "output_type": "stream",
     "text": [
      "MAE:  18.318458361642637\n",
      "RMSE:  36.555354969297895\n",
      "R^2 (Coefficient of determination):  0.9477390288507453\n",
      "R (Correlation coefficient):  0.9735328639692751\n"
     ]
    },
    {
     "data": {
      "image/png": "[encoded data removed]",
      "text/plain": [
       "<Figure size 1152x360 with 1 Axes>"
      ]
     },
     "metadata": {
      "needs_background": "light"
     },
     "output_type": "display_data"
    }
   ],
   "source": [
    "regd_metrics = get_metrics(y_val, regd_y_pred)\n",
    "plot_real_vs_pred(y_val, regd_y_pred)"
   ]
  },
  {
   "cell_type": "markdown",
   "metadata": {},
   "source": [
    "### Compare metrics"
   ]
  },
  {
   "cell_type": "code",
   "execution_count": 212,
   "metadata": {},
   "outputs": [
    {
     "data": {
      "text/html": [
       "<div>\n",
       "<style scoped>\n",
       "    .dataframe tbody tr th:only-of-type {\n",
       "        vertical-align: middle;\n",
       "    }\n",
       "\n",
       "    .dataframe tbody tr th {\n",
       "        vertical-align: top;\n",
       "    }\n",
       "\n",
       "    .dataframe thead th {\n",
       "        text-align: right;\n",
       "    }\n",
       "</style>\n",
       "<table border=\"1\" class=\"dataframe\">\n",
       "  <thead>\n",
       "    <tr style=\"text-align: right;\">\n",
       "      <th></th>\n",
       "      <th>MAE</th>\n",
       "    </tr>\n",
       "  </thead>\n",
       "  <tbody>\n",
       "    <tr>\n",
       "      <td>Regression</td>\n",
       "      <td>110.118169</td>\n",
       "    </tr>\n",
       "    <tr>\n",
       "      <td>KNN</td>\n",
       "      <td>26.965242</td>\n",
       "    </tr>\n",
       "    <tr>\n",
       "      <td>Decision Tree</td>\n",
       "      <td>18.318458</td>\n",
       "    </tr>\n",
       "  </tbody>\n",
       "</table>\n",
       "</div>"
      ],
      "text/plain": [
       "                      MAE\n",
       "Regression     110.118169\n",
       "KNN             26.965242\n",
       "Decision Tree   18.318458"
      ]
     },
     "execution_count": 212,
     "metadata": {},
     "output_type": "execute_result"
    }
   ],
   "source": [
    "df_MAE"
   ]
  },
  {
   "cell_type": "code",
   "execution_count": 271,
   "metadata": {
    "scrolled": false
   },
   "outputs": [
    {
     "data": {
      "image/png": "[encoded data removed]",
      "text/plain": [
       "<Figure size 576x576 with 4 Axes>"
      ]
     },
     "metadata": {},
     "output_type": "display_data"
    }
   ],
   "source": [
    "plt.style.use('ggplot')\n",
    "df_MAE = pd.DataFrame({'MAE': [reg_metrics[0],regk_metrics[0],regd_metrics[0]]},\n",
    "                           index=['Regression', 'KNN', 'Decision Tree']).sort_values('MAE', ascending=False)\n",
    "\n",
    "df_MAPE = pd.DataFrame({'MAPE': [reg_metrics[1],regk_metrics[1],regd_metrics[1]]},\n",
    "                           index=['Regression', 'KNN', 'Decision Tree']).sort_values('MAPE', ascending=False)\n",
    "\n",
    "df_R2 = pd.DataFrame({'R2': [reg_metrics[2],regk_metrics[2],regd_metrics[2]]},\n",
    "                           index=['Regression', 'KNN', 'Decision Tree']).sort_values('R2', ascending=True)\n",
    "\n",
    "df_R = pd.DataFrame({'R (Correlation)': [reg_metrics[3],regk_metrics[3],regd_metrics[3]]},\n",
    "                           index=['Regression', 'KNN', 'Decision Tree']).sort_values('R (Correlation)', ascending=True)\n",
    "\n",
    "f = plt.figure(figsize=(8,8))\n",
    "axes1 = f.add_subplot(4,1,1)\n",
    "axes2 = f.add_subplot(4,1,2)\n",
    "axes3 = f.add_subplot(4,1,3)\n",
    "axes4 = f.add_subplot(4,1,4)\n",
    "\n",
    "df_MAE.plot(kind='barh',ax=axes1, title = 'Compare Metrics', color='lightcoral')\n",
    "df_MAPE.plot(kind='barh', ax=axes2, color='cornflowerblue')\n",
    "df_R2.plot(kind='barh', ax=axes3, color='goldenrod')\n",
    "df_R.plot(kind='barh', ax=axes4, color='mediumseagreen')\n",
    "    \n",
    "for p in axes1.patches:\n",
    "    axes1.annotate(np.round(a=p.get_width(), decimals=0), \\\n",
    "                   (p.get_x() + p.get_width(), p.get_y()), \\\n",
    "                   xytext=(-35, 5), textcoords='offset points')\n",
    "\n",
    "for p in axes2.patches:\n",
    "    axes2.annotate(np.round(a=p.get_width(), decimals=2), \\\n",
    "                   (p.get_x() + p.get_width(), p.get_y()), \\\n",
    "                   xytext=(-35, 5), textcoords='offset points')\n",
    "for p in axes3.patches:\n",
    "    axes3.annotate(np.round(a=p.get_width(), decimals=2), \\\n",
    "                   (p.get_x() + p.get_width(), p.get_y()), \\\n",
    "                   xytext=(-30, 5), textcoords='offset points')\n",
    "    \n",
    "for p in axes4.patches:\n",
    "    axes4.annotate(np.round(a=p.get_width(), decimals=2), \\\n",
    "                   (p.get_x() + p.get_width(), p.get_y()), \\\n",
    "                   xytext=(-30, 5), textcoords='offset points')\n",
    "    \n",
    "plt.show()"
   ]
  },
  {
   "cell_type": "code",
   "execution_count": 272,
   "metadata": {},
   "outputs": [
    {
     "data": {
      "image/png": "[encoded data removed]",
      "text/plain": [
       "<Figure size 576x576 with 4 Axes>"
      ]
     },
     "metadata": {},
     "output_type": "display_data"
    }
   ],
   "source": [
    "plt.style.use('ggplot')\n",
    "df_MAE = pd.DataFrame({'MAE': [reg_metrics[0],regk_metrics[0],regd_metrics[0]]},\n",
    "                           index=['Regression', 'KNN', 'Decision Tree']).sort_values('MAE', ascending=False)\n",
    "\n",
    "df_MAPE = pd.DataFrame({'MAPE': [reg_metrics[1],regk_metrics[1],regd_metrics[1]]},\n",
    "                           index=['Regression', 'KNN', 'Decision Tree']).sort_values('MAPE', ascending=False)\n",
    "\n",
    "df_R2 = pd.DataFrame({'R2': [reg_metrics[2],regk_metrics[2],regd_metrics[2]]},\n",
    "                           index=['Regression', 'KNN', 'Decision Tree']).sort_values('R2', ascending=True)\n",
    "\n",
    "df_R = pd.DataFrame({'R (Correlation)': [reg_metrics[3],regk_metrics[3],regd_metrics[3]]},\n",
    "                           index=['Regression', 'KNN', 'Decision Tree']).sort_values('R (Correlation)', ascending=True)\n",
    "\n",
    "f = plt.figure(figsize=(8,8))\n",
    "axes1 = f.add_subplot(4,1,1)\n",
    "axes2 = f.add_subplot(4,1,2)\n",
    "axes3 = f.add_subplot(4,1,3)\n",
    "axes4 = f.add_subplot(4,1,4)\n",
    "\n",
    "df_MAE.plot(kind='barh',ax=axes1, title = 'Compare Metrics', color='lightcoral')\n",
    "df_MAPE.plot(kind='barh', ax=axes2, color='cornflowerblue')\n",
    "df_R2.plot(kind='barh', ax=axes3, color='goldenrod')\n",
    "df_R.plot(kind='barh', ax=axes4, color='mediumseagreen')\n",
    "    \n",
    "for p in axes1.patches:\n",
    "    axes1.annotate(np.round(a=p.get_width(), decimals=0), \\\n",
    "                   (p.get_x() + p.get_width(), p.get_y()), \\\n",
    "                   xytext=(-35, 5), textcoords='offset points')\n",
    "\n",
    "for p in axes2.patches:\n",
    "    axes2.annotate(np.round(a=p.get_width(), decimals=2), \\\n",
    "                   (p.get_x() + p.get_width(), p.get_y()), \\\n",
    "                   xytext=(-35, 5), textcoords='offset points')\n",
    "for p in axes3.patches:\n",
    "    axes3.annotate(np.round(a=p.get_width(), decimals=2), \\\n",
    "                   (p.get_x() + p.get_width(), p.get_y()), \\\n",
    "                   xytext=(-30, 5), textcoords='offset points')\n",
    "    \n",
    "for p in axes4.patches:\n",
    "    axes4.annotate(np.round(a=p.get_width(), decimals=2), \\\n",
    "                   (p.get_x() + p.get_width(), p.get_y()), \\\n",
    "                   xytext=(-30, 5), textcoords='offset points')\n",
    "    \n",
    "plt.show()"
   ]
  },
  {
   "cell_type": "code",
   "execution_count": 186,
   "metadata": {},
   "outputs": [
    {
     "data": {
      "text/html": [
       "<div>\n",
       "<style scoped>\n",
       "    .dataframe tbody tr th:only-of-type {\n",
       "        vertical-align: middle;\n",
       "    }\n",
       "\n",
       "    .dataframe tbody tr th {\n",
       "        vertical-align: top;\n",
       "    }\n",
       "\n",
       "    .dataframe thead th {\n",
       "        text-align: right;\n",
       "    }\n",
       "</style>\n",
       "<table border=\"1\" class=\"dataframe\">\n",
       "  <thead>\n",
       "    <tr style=\"text-align: right;\">\n",
       "      <th></th>\n",
       "      <th>Regression</th>\n",
       "      <th>KNN</th>\n",
       "      <th>Decission Tree</th>\n",
       "    </tr>\n",
       "  </thead>\n",
       "  <tbody>\n",
       "    <tr>\n",
       "      <td>R2</td>\n",
       "      <td>0.109258</td>\n",
       "      <td>0.898894</td>\n",
       "      <td>0.947739</td>\n",
       "    </tr>\n",
       "    <tr>\n",
       "      <td>R</td>\n",
       "      <td>0.330769</td>\n",
       "      <td>0.948407</td>\n",
       "      <td>0.973533</td>\n",
       "    </tr>\n",
       "  </tbody>\n",
       "</table>\n",
       "</div>"
      ],
      "text/plain": [
       "    Regression       KNN  Decission Tree\n",
       "R2    0.109258  0.898894        0.947739\n",
       "R     0.330769  0.948407        0.973533"
      ]
     },
     "execution_count": 186,
     "metadata": {},
     "output_type": "execute_result"
    }
   ],
   "source": [
    "df_cor"
   ]
  },
  {
   "cell_type": "code",
   "execution_count": null,
   "metadata": {},
   "outputs": [],
   "source": []
  },
  {
   "cell_type": "markdown",
   "metadata": {},
   "source": [
    "Probando ahora con GridSearchCV"
   ]
  },
  {
   "cell_type": "code",
   "execution_count": null,
   "metadata": {},
   "outputs": [],
   "source": [
    "from sklearn.model_selection import GridSearchCV\n",
    "from sklearn.neighbors import KNeighborsRegressor\n",
    "\n",
    "regk_grid = GridSearchCV(KNeighborsRegressor(),\n",
    "                       param_grid={\"n_neighbors\":np.arange(2,5)},\n",
    "                       cv = 2,\n",
    "                       scoring = \"neg_mean_absolute_error\")\n",
    "\n",
    "# Train the model with the dataset\n",
    "regk_grid.fit(X_train,y_train)\n",
    "\n",
    "# Do predictions\n",
    "regk_grid_y_pred = regk_grid.predict(X_val)\n",
    "print(regk_grid.score(X_train, y_train))\n",
    "print(regk_grid.score(X_val, y_val))\n",
    "print(regk_grid.score(X_test, y_test))\n",
    "print('correlation: ', np.corrcoef(regk_grid_y_pred, y_val)[0][1])\n",
    "%time"
   ]
  },
  {
   "cell_type": "code",
   "execution_count": null,
   "metadata": {},
   "outputs": [],
   "source": [
    "regk_grid.best_params_"
   ]
  },
  {
   "cell_type": "markdown",
   "metadata": {},
   "source": [
    "## MAE"
   ]
  },
  {
   "cell_type": "markdown",
   "metadata": {},
   "source": [
    "Measures average magnitud of the errors without considering their direction (all errors in absolute value). It is intuitive to calculate, but you lose information related to the magnitud of the error.<br>\n",
    "Units are the same as the target variable.<br>\n",
    "Value range from 0 to infinite. Lower values are better."
   ]
  },
  {
   "cell_type": "code",
   "execution_count": null,
   "metadata": {},
   "outputs": [],
   "source": [
    "from sklearn.metrics import mean_absolute_error\n",
    "\n",
    "# Use against predictions\n",
    "MAE = mean_absolute_error(reg.predict(X_val), y_val)\n",
    "MAE"
   ]
  },
  {
   "cell_type": "markdown",
   "metadata": {},
   "source": [
    "## MAPE"
   ]
  },
  {
   "cell_type": "markdown",
   "metadata": {},
   "source": [
    "Similar to MAE but it measures the error in percentage.<br>\n",
    "Lower values are better.<br>\n",
    "MAPE is not in sklearn so I calculate it MANUALLY with pandas:"
   ]
  },
  {
   "cell_type": "code",
   "execution_count": null,
   "metadata": {},
   "outputs": [],
   "source": [
    "MAPE = np.mean(np.abs(reg.predict(X_val) - y_val)/y_val)\n",
    "MAPE"
   ]
  },
  {
   "cell_type": "markdown",
   "metadata": {},
   "source": [
    "## RMSE"
   ]
  },
  {
   "cell_type": "markdown",
   "metadata": {},
   "source": [
    "Measures average magnitud of errors.<br>\n",
    "Units are the same as the target variable.<br>\n",
    "Value range from 0 to infinite. Lower values are better."
   ]
  },
  {
   "cell_type": "code",
   "execution_count": null,
   "metadata": {},
   "outputs": [],
   "source": [
    "from sklearn.metrics import mean_absolute_error\n",
    "\n",
    "# Use against predictions (we have to calculate the squared root of MSE)\n",
    "RMSE = np.sqrt(mean_absolute_error(reg.predict(X_val), y_val))\n",
    "RMSE"
   ]
  },
  {
   "cell_type": "code",
   "execution_count": null,
   "metadata": {
    "scrolled": true
   },
   "outputs": [],
   "source": [
    "print('MEAN: ', y_val.mean())\n",
    "print('MEDIAN: ', y_val.median())\n",
    "print('MAE: ', MAE)\n",
    "print('MAPE: ', MAPE)\n",
    "print('RMSE: ', RMSE)"
   ]
  },
  {
   "cell_type": "markdown",
   "metadata": {},
   "source": [
    "## Correlation"
   ]
  },
  {
   "cell_type": "markdown",
   "metadata": {},
   "source": [
    "**There should be a strong correlation between predictions and real values.<br>\n",
    "However, I get a very week correlation value of 0.31**"
   ]
  },
  {
   "cell_type": "code",
   "execution_count": null,
   "metadata": {
    "scrolled": true
   },
   "outputs": [],
   "source": [
    "np.corrcoef(reg.predict(X_val), y_val)[0][1]"
   ]
  },
  {
   "cell_type": "markdown",
   "metadata": {},
   "source": [
    "## Bias\n",
    "It is the average of errors (prediction values minus real values).<br>\n",
    "Negative errors will compensate positive ones."
   ]
  },
  {
   "cell_type": "code",
   "execution_count": null,
   "metadata": {},
   "outputs": [],
   "source": [
    "bias = np.mean(reg.predict(X_val) - y_val)\n",
    "bias"
   ]
  },
  {
   "cell_type": "markdown",
   "metadata": {},
   "source": [
    "## Variance\n",
    "Is the average of errors in predictions between two different data sets."
   ]
  },
  {
   "cell_type": "code",
   "execution_count": null,
   "metadata": {
    "scrolled": true
   },
   "outputs": [],
   "source": [
    "# create table from X_train with same number of rows as X_val\n",
    "# so it can be used to calculate the variance\n",
    "X_train_for_variance = X_train.head(X_val.shape[0])\n",
    "\n",
    "variance = np.mean(reg.predict(X_train_for_variance) - reg.predict(X_val))\n",
    "variance"
   ]
  },
  {
   "cell_type": "code",
   "execution_count": null,
   "metadata": {},
   "outputs": [],
   "source": [
    "# Merge X_train with predictions\n",
    "combine = X_train.copy()\n",
    "combine['pickups'] = y_train\n",
    "combine['pickups Prediction'] = reg.predict(X_train)\n",
    "\n",
    "combine.head(100)"
   ]
  },
  {
   "cell_type": "code",
   "execution_count": null,
   "metadata": {},
   "outputs": [],
   "source": [
    "# Merge X_test with predictions\n",
    "combine2 = X_test.copy()\n",
    "combine2['pickups'] = y_test\n",
    "combine2['pickups Prediction'] = reg.predict(X_test)\n",
    "\n",
    "combine2.head(100)"
   ]
  },
  {
   "cell_type": "code",
   "execution_count": null,
   "metadata": {
    "scrolled": false
   },
   "outputs": [],
   "source": [
    "predictions = reg.predict(X_test)\n",
    "X_test_g = X_test.groupby(['month', 'day','hour','LocationID']).sum()\n",
    "X_test_g.head(100)"
   ]
  },
  {
   "cell_type": "markdown",
   "metadata": {},
   "source": [
    "## Pack model with Pickle"
   ]
  },
  {
   "cell_type": "code",
   "execution_count": null,
   "metadata": {},
   "outputs": [],
   "source": [
    "import pickle\n",
    "pickle.dump(reg,open('./model_reg_01.pickle','wb'))"
   ]
  }
 ],
 "metadata": {
  "kernelspec": {
   "display_name": "Python 3",
   "language": "python",
   "name": "python3"
  },
  "language_info": {
   "codemirror_mode": {
    "name": "ipython",
    "version": 3
   },
   "file_extension": ".py",
   "mimetype": "text/x-python",
   "name": "python",
   "nbconvert_exporter": "python",
   "pygments_lexer": "ipython3",
   "version": "3.7.4"
  }
 },
 "nbformat": 4,
 "nbformat_minor": 2
}
