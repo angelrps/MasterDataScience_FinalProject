{
 "cells": [
  {
   "cell_type": "code",
   "execution_count": 10,
   "metadata": {},
   "outputs": [],
   "source": [
    "import bs4\n",
    "from bs4 import BeautifulSoup\n",
    "import requests\n",
    "import pandas as pd\n",
    "from datetime import datetime as date"
   ]
  },
  {
   "cell_type": "code",
   "execution_count": 3,
   "metadata": {},
   "outputs": [],
   "source": [
    "import numpy as np\n",
    "import pandas as pd\n",
    "import time\n",
    "import datetime\n",
    "import re\n",
    "from selenium import webdriver"
   ]
  },
  {
   "cell_type": "code",
   "execution_count": 18,
   "metadata": {},
   "outputs": [
    {
     "name": "stdout",
     "output_type": "stream",
     "text": [
      "2020 7 21\n",
      "2020 7 22\n",
      "2020 7 23\n"
     ]
    }
   ],
   "source": [
    "# Get date variables to create INPUT table for the model\n",
    "today = date.today()\n",
    "tomorrow = today + pd.Timedelta(days=1)\n",
    "afterTomorrow = today + pd.Timedelta(days=2)\n",
    "\n",
    "todayYear = today.year\n",
    "todayMonth = today.month\n",
    "todayDay = today.day\n",
    "\n",
    "tomorrowYear = tomorrow.year\n",
    "tomorrowMonth = tomorrow.month\n",
    "tomorrowDay = tomorrow.day\n",
    "\n",
    "afterTomorrowYear = afterTomorrow.year\n",
    "afterTomorrowMonth = afterTomorrow.month\n",
    "afterTomorrowDay = afterTomorrow.day\n",
    "\n",
    "print(todayYear, todayMonth, todayDay)\n",
    "print(tomorrowYear, tomorrowMonth, tomorrowDay)\n",
    "print(afterTomorrowYear, afterTomorrowMonth, afterTomorrowDay)"
   ]
  },
  {
   "cell_type": "code",
   "execution_count": 199,
   "metadata": {
    "scrolled": true
   },
   "outputs": [],
   "source": [
    "url = 'https://www.wunderground.com/hourly/us/ny/new-york-city/KNYNEWYO1335'\n",
    "page = requests.get(url)\n",
    "soup = BeautifulSoup(page.content, 'html.parser')"
   ]
  },
  {
   "cell_type": "code",
   "execution_count": 130,
   "metadata": {},
   "outputs": [
    {
     "name": "stdout",
     "output_type": "stream",
     "text": [
      "2\n"
     ]
    }
   ],
   "source": [
    "print(len(list(soup.children)))\n",
    "html = list(soup.children)[1]"
   ]
  },
  {
   "cell_type": "code",
   "execution_count": 221,
   "metadata": {},
   "outputs": [
    {
     "name": "stdout",
     "output_type": "stream",
     "text": [
      "<class 'NoneType'>\n"
     ]
    }
   ],
   "source": [
    "forecast_table = soup.find_all(id='hourly-forecasts')\n",
    "a = soup.find_all('table')\n",
    "for i in a:\n",
    "    \n",
    "    print(type(i.o))\n",
    "#type(forecast_table)"
   ]
  },
  {
   "cell_type": "code",
   "execution_count": 173,
   "metadata": {
    "scrolled": true
   },
   "outputs": [
    {
     "name": "stdout",
     "output_type": "stream",
     "text": [
      "I found you!\n",
      "<tbody _ngcontent-sc225=\"\"><!-- --></tbody>\n"
     ]
    }
   ],
   "source": [
    "forecast_table = soup.find('table', attrs={'class': 'mat-table cdk-table'})\n",
    "tags = soup.find_all('tbody')\n",
    "for i in tags:\n",
    "    if i.name == 'tbody':\n",
    "        print('I found you!')\n",
    "        \n",
    "tagBody = tags[0]\n",
    "print(tagBody)"
   ]
  },
  {
   "cell_type": "markdown",
   "metadata": {},
   "source": [
    "#######################"
   ]
  },
  {
   "cell_type": "code",
   "execution_count": 5,
   "metadata": {},
   "outputs": [],
   "source": [
    "from bs4 import BeautifulSoup\n",
    "import urllib, csv, os, datetime, urllib.request, re, sys\n",
    "from urllib.request import Request, urlopen"
   ]
  },
  {
   "cell_type": "code",
   "execution_count": 9,
   "metadata": {},
   "outputs": [],
   "source": [
    "url = 'https://www.wunderground.com/hourly/us/ny/new-york-city'\n",
    "req = Request(url, headers={'User-Agent': 'Mozilla/5.0'})\n",
    "webpage= urlopen(req).read()"
   ]
  },
  {
   "cell_type": "code",
   "execution_count": 25,
   "metadata": {},
   "outputs": [
    {
     "data": {
      "text/plain": [
       "<title>New York City, NY Hourly Weather Forecast | Weather Underground</title>"
      ]
     },
     "execution_count": 25,
     "metadata": {},
     "output_type": "execute_result"
    }
   ],
   "source": [
    "page_soup = BeautifulSoup(webpage, 'html.parser')\n",
    "page_soup.title"
   ]
  },
  {
   "cell_type": "code",
   "execution_count": 29,
   "metadata": {},
   "outputs": [
    {
     "name": "stdout",
     "output_type": "stream",
     "text": [
      "<a _ngcontent-sc156=\"\" class=\"logo\" href=\"/\" id=\"header-logo\" title=\"Weather Underground\">_</a>\n",
      "<a _ngcontent-sc153=\"\" class=\"ui-corner-all\" href=\"/member/favorites\" tabindex=\"-1\">Manage Favorite Cities</a>\n",
      "<a _ngcontent-sc155=\"\" href=\"/login\">Log in</a>\n",
      "<a _ngcontent-sc155=\"\" href=\"/signup\" routerlink=\"/signup\" routerlinkactive=\"active\">Join</a>\n",
      "<a _ngcontent-sc143=\"\" class=\"favorites__star\" href=\"/member/favorites\" title=\"Manage Favorites\"><i _ngcontent-sc143=\"\" class=\"material-icons\">star</i></a>\n",
      "<a _ngcontent-sc225=\"\" class=\"station-name\"><lib-display-unit _ngcontent-sc225=\"\" _nghost-sc141=\"\" type=\"temperature\"><span _ngcontent-sc141=\"\" class=\"test-true wu-unit wu-unit-temperature is-degree-visible ng-star-inserted\"><!-- --><!-- --><!-- --><span _ngcontent-sc141=\"\" class=\"wu-value wu-value-to\" style=\"color:#d72a36;\">88</span> <span _ngcontent-sc141=\"\" class=\"wu-label\"><span _ngcontent-sc141=\"\" class=\"ng-star-inserted\">F</span><!-- --><!-- --></span><!-- --></span><!-- --><!-- --></lib-display-unit> Hells Kitchen C° Station</a>\n",
      "<a _ngcontent-sc225=\"\" class=\"report-link\" data-toggle=\"report-box\">Report</a>\n",
      "<a _ngcontent-sc225=\"\" class=\"station-select-button\" id=\"station-select-button\">Change</a>\n",
      "<a _ngcontent-sc224=\"\" href=\"/wundermap/?lat=40.765133&amp;lon=-73.988396&amp;zoom=12&amp;wxsn=1\">See more</a>\n",
      "<a _ngcontent-sc224=\"\" class=\"map-reset\">Reset Map</a>\n",
      "<a _ngcontent-sc224=\"\" href=\"/history/daily/us/ny/new-york-city/KNYNEWYO982/date/2020-7-22\"> Hells Kitchen C° <span _ngcontent-sc224=\"\" class=\"station-id\">(KNYNEWYO982)</span></a>\n",
      "<a _ngcontent-sc224=\"\" class=\"map-reset\" ng-click=\"reset()\">Reset Map</a>\n",
      "<a _ngcontent-sc224=\"\" href=\"/member/devices/new\">Add PWS</a>\n",
      "<a _ngcontent-sc224=\"\" class=\"hide map-zoom-out\" href=\"javascript:void(0);\">zoom out</a>\n",
      "<a _ngcontent-sc244=\"\" href=\"/precipitation/us/ny/new-york-city\"><span _ngcontent-sc244=\"\" class=\"pop\" title=\"chance of precipitation\"></span><strong _ngcontent-sc244=\"\">30</strong>% / <strong _ngcontent-sc244=\"\">0 </strong> in </a>\n",
      "<a _ngcontent-sc244=\"\" href=\"/precipitation/us/ny/new-york-city\"><span _ngcontent-sc244=\"\" class=\"pop\" title=\"chance of precipitation\"></span><strong _ngcontent-sc244=\"\">50</strong>% / <strong _ngcontent-sc244=\"\"> 0.04</strong> in </a>\n",
      "<a _ngcontent-sc230=\"\" href=\"/calendar/us/ny/new-york-city/KLGA\"><i _ngcontent-sc230=\"\" class=\"material-icons\">date_range</i> View Calendar Forecast </a>\n",
      "<a _ngcontent-sc247=\"\" href=\"/video/top-stories\">See more Top Video Stories</a>\n",
      "<a _ngcontent-sc247=\"\" href=\"/video/top-stories\">See more Top Video Stories</a>\n",
      "<a _ngcontent-sc158=\"\" href=\"/download\" title=\"Weather Underground Mobile Apps\">Our Apps</a>\n",
      "<a _ngcontent-sc158=\"\" href=\"/about/our-company\" title=\"About Weather Underground\">About Us</a>\n",
      "<a _ngcontent-sc158=\"\" href=\"/about/contact-us\" title=\"Contact Weather Underground\">Contact</a>\n",
      "<a _ngcontent-sc158=\"\" href=\"http://ibm.biz/BdH3av\" rel=\"noopener\" target=\"_blank\">Careers</a>\n",
      "<a _ngcontent-sc158=\"\" href=\"/pws/overview\" title=\"Personal Weather Station Network\">PWS Network</a>\n",
      "<a _ngcontent-sc158=\"\" href=\"/wundermap\" title=\"Experience WunderMap\">WunderMap</a>\n",
      "<a _ngcontent-sc158=\"\" href=\"https://www.wunderground.com/feedback\" rel=\"noopener\" target=\"_blank\" title=\"Customer Feedback for Weather Underground\">Feedback &amp; Support</a>\n",
      "<a _ngcontent-sc158=\"\" href=\"/company/legal\">Terms of Use</a>\n",
      "<a _ngcontent-sc158=\"\" href=\"/company/privacy-policy\">Privacy Policy</a>\n",
      "<a _ngcontent-sc158=\"\" class=\"ad-choices\" href=\"/company/ad-choices lazy-background\">AdChoices</a>\n",
      "<a _ngcontent-sc158=\"\" href=\"/company/ad-partners\">Ad Partners</a>\n",
      "<a _ngcontent-sc158=\"\" href=\"/company/analytics-partners\">Analytics Partners</a>\n",
      "<a _ngcontent-sc158=\"\" class=\"columns accessibility-icon\" href=\"https://www.essentialaccessibility.com/the-weather-channel?utm_source=theweatherchannelhomepage&amp;utm_medium=iconlarge&amp;utm_term=eachannelpage&amp;utm_content=header&amp;utm_campaign=theweatherchannel\"><img _ngcontent-sc158=\"\" alt=\"Access Logo\" data-lazy=\"//www.wunderground.com/static/i/logos/ea-logo-desktop.svg\"/></a>\n",
      "<a _ngcontent-sc158=\"\" href=\"/data-rights\" target=\"_blank\">Data Rights</a>\n",
      "<a _ngcontent-sc158=\"\" class=\"ibm-cloud\" href=\"https://www.ibm.com/cloud/\" target=\"_blank\">Powered by the IBM Cloud</a>\n"
     ]
    },
    {
     "data": {
      "text/plain": [
       "34"
      ]
     },
     "execution_count": 29,
     "metadata": {},
     "output_type": "execute_result"
    }
   ],
   "source": [
    "containers = page_soup.find_all('a')\n",
    "type(containers)\n",
    "counter = 0\n",
    "for container in containers:\n",
    "    counter += 1\n",
    "    print(container)\n",
    "    \n",
    "counter"
   ]
  }
 ],
 "metadata": {
  "kernelspec": {
   "display_name": "Python 3",
   "language": "python",
   "name": "python3"
  },
  "language_info": {
   "codemirror_mode": {
    "name": "ipython",
    "version": 3
   },
   "file_extension": ".py",
   "mimetype": "text/x-python",
   "name": "python",
   "nbconvert_exporter": "python",
   "pygments_lexer": "ipython3",
   "version": "3.7.4"
  }
 },
 "nbformat": 4,
 "nbformat_minor": 2
}
