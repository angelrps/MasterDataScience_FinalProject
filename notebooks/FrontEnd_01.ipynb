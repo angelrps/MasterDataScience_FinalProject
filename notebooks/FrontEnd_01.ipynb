{
 "cells": [
  {
   "cell_type": "code",
   "execution_count": 2,
   "metadata": {
    "collapsed": true
   },
   "outputs": [
    {
     "name": "stdout",
     "output_type": "stream",
     "text": [
      "Collecting pyshp\n",
      "\u001b[?25l  Downloading https://files.pythonhosted.org/packages/27/16/3bf15aa864fb77845fab8007eda22c2bd67bd6c1fd13496df452c8c43621/pyshp-2.1.0.tar.gz (215kB)\n",
      "\u001b[K     |████████████████████████████████| 225kB 4.7MB/s eta 0:00:01\n",
      "\u001b[?25hBuilding wheels for collected packages: pyshp\n",
      "  Building wheel for pyshp (setup.py) ... \u001b[?25ldone\n",
      "\u001b[?25h  Created wheel for pyshp: filename=pyshp-2.1.0-cp37-none-any.whl size=32609 sha256=67d24e6e7ed38fcfb6922f0b75772982dfc4f4d20df4d33f5410acfd530c7d50\n",
      "  Stored in directory: /home/angelrps/.cache/pip/wheels/a6/0c/de/321b5192ad416b328975a2f0385f72c64db4656501eba7cc1a\n",
      "Successfully built pyshp\n",
      "Installing collected packages: pyshp\n",
      "Successfully installed pyshp-2.1.0\n"
     ]
    }
   ],
   "source": [
    "!pip install pyshp"
   ]
  },
  {
   "cell_type": "code",
   "execution_count": 39,
   "metadata": {
    "collapsed": true
   },
   "outputs": [
    {
     "name": "stdout",
     "output_type": "stream",
     "text": [
      "Requirement already satisfied: geopandas in /home/angelrps/anaconda3/lib/python3.7/site-packages (0.8.0)\n",
      "Requirement already satisfied: shapely in /home/angelrps/anaconda3/lib/python3.7/site-packages (from geopandas) (1.7.0)\n",
      "Requirement already satisfied: fiona in /home/angelrps/anaconda3/lib/python3.7/site-packages (from geopandas) (1.8.13.post1)\n",
      "Requirement already satisfied: pandas>=0.23.0 in /home/angelrps/anaconda3/lib/python3.7/site-packages (from geopandas) (0.25.1)\n",
      "Requirement already satisfied: pyproj>=2.2.0 in /home/angelrps/anaconda3/lib/python3.7/site-packages (from geopandas) (2.6.1.post1)\n",
      "Requirement already satisfied: munch in /home/angelrps/anaconda3/lib/python3.7/site-packages (from fiona->geopandas) (2.5.0)\n",
      "Requirement already satisfied: cligj>=0.5 in /home/angelrps/anaconda3/lib/python3.7/site-packages (from fiona->geopandas) (0.5.0)\n",
      "Requirement already satisfied: click-plugins>=1.0 in /home/angelrps/anaconda3/lib/python3.7/site-packages (from fiona->geopandas) (1.1.1)\n",
      "Requirement already satisfied: click<8,>=4.0 in /home/angelrps/anaconda3/lib/python3.7/site-packages (from fiona->geopandas) (7.0)\n",
      "Requirement already satisfied: attrs>=17 in /home/angelrps/anaconda3/lib/python3.7/site-packages (from fiona->geopandas) (19.2.0)\n",
      "Requirement already satisfied: six>=1.7 in /home/angelrps/anaconda3/lib/python3.7/site-packages (from fiona->geopandas) (1.12.0)\n",
      "Requirement already satisfied: numpy>=1.13.3 in /home/angelrps/anaconda3/lib/python3.7/site-packages (from pandas>=0.23.0->geopandas) (1.17.2)\n",
      "Requirement already satisfied: pytz>=2017.2 in /home/angelrps/anaconda3/lib/python3.7/site-packages (from pandas>=0.23.0->geopandas) (2019.3)\n",
      "Requirement already satisfied: python-dateutil>=2.6.1 in /home/angelrps/anaconda3/lib/python3.7/site-packages (from pandas>=0.23.0->geopandas) (2.8.0)\n",
      "Collecting descartes\n",
      "  Downloading https://files.pythonhosted.org/packages/e5/b6/1ed2eb03989ae574584664985367ba70cd9cf8b32ee8cad0e8aaeac819f3/descartes-1.1.0-py3-none-any.whl\n",
      "Requirement already satisfied: matplotlib in /home/angelrps/anaconda3/lib/python3.7/site-packages (from descartes) (3.1.1)\n",
      "Requirement already satisfied: cycler>=0.10 in /home/angelrps/anaconda3/lib/python3.7/site-packages (from matplotlib->descartes) (0.10.0)\n",
      "Requirement already satisfied: kiwisolver>=1.0.1 in /home/angelrps/anaconda3/lib/python3.7/site-packages (from matplotlib->descartes) (1.1.0)\n",
      "Requirement already satisfied: pyparsing!=2.0.4,!=2.1.2,!=2.1.6,>=2.0.1 in /home/angelrps/anaconda3/lib/python3.7/site-packages (from matplotlib->descartes) (2.4.2)\n",
      "Requirement already satisfied: python-dateutil>=2.1 in /home/angelrps/anaconda3/lib/python3.7/site-packages (from matplotlib->descartes) (2.8.0)\n",
      "Requirement already satisfied: numpy>=1.11 in /home/angelrps/anaconda3/lib/python3.7/site-packages (from matplotlib->descartes) (1.17.2)\n",
      "Requirement already satisfied: six in /home/angelrps/anaconda3/lib/python3.7/site-packages (from cycler>=0.10->matplotlib->descartes) (1.12.0)\n",
      "Requirement already satisfied: setuptools in /home/angelrps/anaconda3/lib/python3.7/site-packages (from kiwisolver>=1.0.1->matplotlib->descartes) (44.0.0)\n",
      "Installing collected packages: descartes\n",
      "Successfully installed descartes-1.1.0\n"
     ]
    }
   ],
   "source": [
    "!pip install geopandas\n",
    "!pip install descartes"
   ]
  },
  {
   "cell_type": "code",
   "execution_count": 21,
   "metadata": {},
   "outputs": [
    {
     "name": "stdout",
     "output_type": "stream",
     "text": [
      "/home/angelrps/git/MasterDataScience_FinalProject/notebooks\n"
     ]
    }
   ],
   "source": [
    "cd ../notebooks"
   ]
  },
  {
   "cell_type": "code",
   "execution_count": 51,
   "metadata": {},
   "outputs": [],
   "source": [
    "import os\n",
    "import pandas as pd\n",
    "import numpy as np\n",
    "import matplotlib.pyplot as plt\n",
    "%matplotlib inline\n",
    "\n",
    "import geopandas as gpd\n",
    "import seaborn as sns\n",
    "sns.set(style='whitegrid', palette='pastel', color_codes=True)\n",
    "sns.mpl.rc('figure', figsize=(10,6))"
   ]
  },
  {
   "cell_type": "code",
   "execution_count": 37,
   "metadata": {},
   "outputs": [
    {
     "name": "stdout",
     "output_type": "stream",
     "text": [
      "<class 'geopandas.geodataframe.GeoDataFrame'>\n"
     ]
    },
    {
     "data": {
      "text/html": [
       "<div>\n",
       "<style scoped>\n",
       "    .dataframe tbody tr th:only-of-type {\n",
       "        vertical-align: middle;\n",
       "    }\n",
       "\n",
       "    .dataframe tbody tr th {\n",
       "        vertical-align: top;\n",
       "    }\n",
       "\n",
       "    .dataframe thead th {\n",
       "        text-align: right;\n",
       "    }\n",
       "</style>\n",
       "<table border=\"1\" class=\"dataframe\">\n",
       "  <thead>\n",
       "    <tr style=\"text-align: right;\">\n",
       "      <th></th>\n",
       "      <th>OBJECTID</th>\n",
       "      <th>Shape_Leng</th>\n",
       "      <th>Shape_Area</th>\n",
       "      <th>zone</th>\n",
       "      <th>LocationID</th>\n",
       "      <th>borough</th>\n",
       "      <th>geometry</th>\n",
       "    </tr>\n",
       "  </thead>\n",
       "  <tbody>\n",
       "    <tr>\n",
       "      <td>0</td>\n",
       "      <td>1</td>\n",
       "      <td>0.116357</td>\n",
       "      <td>0.000782</td>\n",
       "      <td>Newark Airport</td>\n",
       "      <td>1</td>\n",
       "      <td>EWR</td>\n",
       "      <td>POLYGON ((933100.918 192536.086, 933091.011 19...</td>\n",
       "    </tr>\n",
       "    <tr>\n",
       "      <td>1</td>\n",
       "      <td>2</td>\n",
       "      <td>0.433470</td>\n",
       "      <td>0.004866</td>\n",
       "      <td>Jamaica Bay</td>\n",
       "      <td>2</td>\n",
       "      <td>Queens</td>\n",
       "      <td>MULTIPOLYGON (((1033269.244 172126.008, 103343...</td>\n",
       "    </tr>\n",
       "    <tr>\n",
       "      <td>2</td>\n",
       "      <td>3</td>\n",
       "      <td>0.084341</td>\n",
       "      <td>0.000314</td>\n",
       "      <td>Allerton/Pelham Gardens</td>\n",
       "      <td>3</td>\n",
       "      <td>Bronx</td>\n",
       "      <td>POLYGON ((1026308.770 256767.698, 1026495.593 ...</td>\n",
       "    </tr>\n",
       "    <tr>\n",
       "      <td>3</td>\n",
       "      <td>4</td>\n",
       "      <td>0.043567</td>\n",
       "      <td>0.000112</td>\n",
       "      <td>Alphabet City</td>\n",
       "      <td>4</td>\n",
       "      <td>Manhattan</td>\n",
       "      <td>POLYGON ((992073.467 203714.076, 992068.667 20...</td>\n",
       "    </tr>\n",
       "    <tr>\n",
       "      <td>4</td>\n",
       "      <td>5</td>\n",
       "      <td>0.092146</td>\n",
       "      <td>0.000498</td>\n",
       "      <td>Arden Heights</td>\n",
       "      <td>5</td>\n",
       "      <td>Staten Island</td>\n",
       "      <td>POLYGON ((935843.310 144283.336, 936046.565 14...</td>\n",
       "    </tr>\n",
       "  </tbody>\n",
       "</table>\n",
       "</div>"
      ],
      "text/plain": [
       "   OBJECTID  Shape_Leng  Shape_Area                     zone  LocationID  \\\n",
       "0         1    0.116357    0.000782           Newark Airport           1   \n",
       "1         2    0.433470    0.004866              Jamaica Bay           2   \n",
       "2         3    0.084341    0.000314  Allerton/Pelham Gardens           3   \n",
       "3         4    0.043567    0.000112            Alphabet City           4   \n",
       "4         5    0.092146    0.000498            Arden Heights           5   \n",
       "\n",
       "         borough                                           geometry  \n",
       "0            EWR  POLYGON ((933100.918 192536.086, 933091.011 19...  \n",
       "1         Queens  MULTIPOLYGON (((1033269.244 172126.008, 103343...  \n",
       "2          Bronx  POLYGON ((1026308.770 256767.698, 1026495.593 ...  \n",
       "3      Manhattan  POLYGON ((992073.467 203714.076, 992068.667 20...  \n",
       "4  Staten Island  POLYGON ((935843.310 144283.336, 936046.565 14...  "
      ]
     },
     "execution_count": 37,
     "metadata": {},
     "output_type": "execute_result"
    }
   ],
   "source": [
    "# opening the vector map\n",
    "shp_path = \"../z_resources/data_test/taxi_zones/taxi_zones.shp\"\n",
    "assert os.path.exists(shp_path), \"Input file does not exist.\"\n",
    "\n",
    "# set the filepath and load\n",
    "fp = \"../z_resources/data_test/taxi_zones/taxi_zones.shp\"\n",
    "#reading the file stored in variable fp\n",
    "map_df = gpd.read_file(fp)\n",
    "\n",
    "# check data type so we can see that this is not a normal dataframe, but a GEOdataframe\n",
    "print(type(map_df))\n",
    "map_df.head()"
   ]
  },
  {
   "cell_type": "code",
   "execution_count": 48,
   "metadata": {},
   "outputs": [
    {
     "data": {
      "text/html": [
       "<div>\n",
       "<style scoped>\n",
       "    .dataframe tbody tr th:only-of-type {\n",
       "        vertical-align: middle;\n",
       "    }\n",
       "\n",
       "    .dataframe tbody tr th {\n",
       "        vertical-align: top;\n",
       "    }\n",
       "\n",
       "    .dataframe thead th {\n",
       "        text-align: right;\n",
       "    }\n",
       "</style>\n",
       "<table border=\"1\" class=\"dataframe\">\n",
       "  <thead>\n",
       "    <tr style=\"text-align: right;\">\n",
       "      <th></th>\n",
       "      <th>OBJECTID</th>\n",
       "      <th>Shape_Leng</th>\n",
       "      <th>Shape_Area</th>\n",
       "      <th>zone</th>\n",
       "      <th>LocationID</th>\n",
       "      <th>borough</th>\n",
       "      <th>geometry</th>\n",
       "    </tr>\n",
       "  </thead>\n",
       "  <tbody>\n",
       "    <tr>\n",
       "      <td>3</td>\n",
       "      <td>4</td>\n",
       "      <td>0.043567</td>\n",
       "      <td>0.000112</td>\n",
       "      <td>Alphabet City</td>\n",
       "      <td>4</td>\n",
       "      <td>Manhattan</td>\n",
       "      <td>POLYGON ((992073.467 203714.076, 992068.667 20...</td>\n",
       "    </tr>\n",
       "    <tr>\n",
       "      <td>11</td>\n",
       "      <td>12</td>\n",
       "      <td>0.036661</td>\n",
       "      <td>0.000042</td>\n",
       "      <td>Battery Park</td>\n",
       "      <td>12</td>\n",
       "      <td>Manhattan</td>\n",
       "      <td>POLYGON ((979908.772 196066.565, 979980.852 19...</td>\n",
       "    </tr>\n",
       "    <tr>\n",
       "      <td>12</td>\n",
       "      <td>13</td>\n",
       "      <td>0.050281</td>\n",
       "      <td>0.000149</td>\n",
       "      <td>Battery Park City</td>\n",
       "      <td>13</td>\n",
       "      <td>Manhattan</td>\n",
       "      <td>POLYGON ((980801.310 201248.869, 980697.386 20...</td>\n",
       "    </tr>\n",
       "    <tr>\n",
       "      <td>23</td>\n",
       "      <td>24</td>\n",
       "      <td>0.047000</td>\n",
       "      <td>0.000061</td>\n",
       "      <td>Bloomingdale</td>\n",
       "      <td>24</td>\n",
       "      <td>Manhattan</td>\n",
       "      <td>POLYGON ((995453.114 230274.267, 995312.583 23...</td>\n",
       "    </tr>\n",
       "    <tr>\n",
       "      <td>40</td>\n",
       "      <td>41</td>\n",
       "      <td>0.052793</td>\n",
       "      <td>0.000143</td>\n",
       "      <td>Central Harlem</td>\n",
       "      <td>41</td>\n",
       "      <td>Manhattan</td>\n",
       "      <td>POLYGON ((998716.913 234240.397, 999458.736 23...</td>\n",
       "    </tr>\n",
       "  </tbody>\n",
       "</table>\n",
       "</div>"
      ],
      "text/plain": [
       "    OBJECTID  Shape_Leng  Shape_Area               zone  LocationID  \\\n",
       "3          4    0.043567    0.000112      Alphabet City           4   \n",
       "11        12    0.036661    0.000042       Battery Park          12   \n",
       "12        13    0.050281    0.000149  Battery Park City          13   \n",
       "23        24    0.047000    0.000061       Bloomingdale          24   \n",
       "40        41    0.052793    0.000143     Central Harlem          41   \n",
       "\n",
       "      borough                                           geometry  \n",
       "3   Manhattan  POLYGON ((992073.467 203714.076, 992068.667 20...  \n",
       "11  Manhattan  POLYGON ((979908.772 196066.565, 979980.852 19...  \n",
       "12  Manhattan  POLYGON ((980801.310 201248.869, 980697.386 20...  \n",
       "23  Manhattan  POLYGON ((995453.114 230274.267, 995312.583 23...  \n",
       "40  Manhattan  POLYGON ((998716.913 234240.397, 999458.736 23...  "
      ]
     },
     "execution_count": 48,
     "metadata": {},
     "output_type": "execute_result"
    }
   ],
   "source": [
    "map_df2 = map_df[map_df['borough'] == 'Manhattan']\n",
    "map_df2.head()"
   ]
  },
  {
   "cell_type": "code",
   "execution_count": 52,
   "metadata": {},
   "outputs": [
    {
     "data": {
      "text/plain": [
       "<matplotlib.axes._subplots.AxesSubplot at 0x7f0045900a10>"
      ]
     },
     "execution_count": 52,
     "metadata": {},
     "output_type": "execute_result"
    },
    {
     "data": {
      "image/png": "[encoded data removed]",
      "text/plain": [
       "<Figure size 720x432 with 1 Axes>"
      ]
     },
     "metadata": {},
     "output_type": "display_data"
    }
   ],
   "source": [
    "map_df2.plot()"
   ]
  }
 ],
 "metadata": {
  "kernelspec": {
   "display_name": "Python 3",
   "language": "python",
   "name": "python3"
  },
  "language_info": {
   "codemirror_mode": {
    "name": "ipython",
    "version": 3
   },
   "file_extension": ".py",
   "mimetype": "text/x-python",
   "name": "python",
   "nbconvert_exporter": "python",
   "pygments_lexer": "ipython3",
   "version": "3.7.4"
  }
 },
 "nbformat": 4,
 "nbformat_minor": 2
}
