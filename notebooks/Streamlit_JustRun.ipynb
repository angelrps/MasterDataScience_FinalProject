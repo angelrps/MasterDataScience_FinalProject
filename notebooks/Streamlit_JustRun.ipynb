{
 "cells": [
  {
   "cell_type": "code",
   "execution_count": 29,
   "metadata": {},
   "outputs": [
    {
     "name": "stdout",
     "output_type": "stream",
     "text": [
      "\u001b[0m\n",
      "\u001b[34m\u001b[1m  You can now view your Streamlit app in your browser.\u001b[0m\n",
      "\u001b[0m\n",
      "\u001b[34m  Network URL: \u001b[0m\u001b[1mhttp://192.168.1.37:8501\u001b[0m\n",
      "\u001b[34m  External URL: \u001b[0m\u001b[1mhttp://83.37.49.11:8501\u001b[0m\n",
      "\u001b[0m\n",
      "NumExpr defaulting to 8 threads.\n",
      "gathering data from:  2020-08-26\n",
      "gathering data from:  2020-08-27\n",
      "gathering data from:  2020-08-28\n",
      "`/vsimem/a38b51ca117245e38857c19fcc23bbbe' not recognized as a supported file format.\n",
      "`/vsimem/2fd098bbe6fe45a987b93008c638e264' not recognized as a supported file format.\n",
      "^C\n",
      "\u001b[34m  Stopping...\u001b[0m\n"
     ]
    }
   ],
   "source": [
    "!streamlit run streamlit_app.py"
   ]
  }
 ],
 "metadata": {
  "kernelspec": {
   "display_name": "Python 3",
   "language": "python",
   "name": "python3"
  },
  "language_info": {
   "codemirror_mode": {
    "name": "ipython",
    "version": 3
   },
   "file_extension": ".py",
   "mimetype": "text/x-python",
   "name": "python",
   "nbconvert_exporter": "python",
   "pygments_lexer": "ipython3",
   "version": "3.7.4"
  }
 },
 "nbformat": 4,
 "nbformat_minor": 2
}
